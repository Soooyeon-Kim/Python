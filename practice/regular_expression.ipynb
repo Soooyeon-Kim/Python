{
 "cells": [
  {
   "cell_type": "markdown",
   "id": "4505f068",
   "metadata": {},
   "source": [
    "#### a로 시작하는 단어만 출력"
   ]
  },
  {
   "cell_type": "code",
   "execution_count": 13,
   "id": "89e798e0",
   "metadata": {
    "ExecuteTime": {
     "end_time": "2021-09-25T12:28:28.619093Z",
     "start_time": "2021-09-25T12:28:28.607091Z"
    }
   },
   "outputs": [
    {
     "name": "stdout",
     "output_type": "stream",
     "text": [
      "apple\n",
      "arise\n",
      "above\n"
     ]
    }
   ],
   "source": [
    "import re\n",
    "words = ['apple', 'cat', 'brave', 'drama', 'arise', 'blow', 'coat', 'above']\n",
    "for i in words:\n",
    "    m = re.match(r'a\\D+', i)\n",
    "    if m:\n",
    "        print(m.group()) "
   ]
  },
  {
   "cell_type": "code",
   "execution_count": 1,
   "id": "528b2e83",
   "metadata": {
    "ExecuteTime": {
     "end_time": "2021-09-25T12:19:35.373156Z",
     "start_time": "2021-09-25T12:19:35.365158Z"
    }
   },
   "outputs": [],
   "source": [
    "words = ['apple', 'cat', 'brave', 'drama', 'arise', 'blow', 'coat', 'above']"
   ]
  },
  {
   "cell_type": "code",
   "execution_count": 10,
   "id": "f3e42af7",
   "metadata": {
    "ExecuteTime": {
     "end_time": "2021-09-25T12:25:16.130494Z",
     "start_time": "2021-09-25T12:25:16.113491Z"
    },
    "scrolled": true
   },
   "outputs": [
    {
     "data": {
      "text/plain": [
       "['apple', 'arise', 'above']"
      ]
     },
     "execution_count": 10,
     "metadata": {},
     "output_type": "execute_result"
    }
   ],
   "source": [
    "a = [word for word in words if word.startswith('a')]\n",
    "a"
   ]
  },
  {
   "cell_type": "markdown",
   "id": "dab7fb60",
   "metadata": {},
   "source": [
    "#### 문자열 a에서 이메일 주소만 추출"
   ]
  },
  {
   "cell_type": "code",
   "execution_count": 14,
   "id": "44de5707",
   "metadata": {
    "ExecuteTime": {
     "end_time": "2021-09-25T12:56:56.621478Z",
     "start_time": "2021-09-25T12:56:56.576482Z"
    }
   },
   "outputs": [
    {
     "name": "stdout",
     "output_type": "stream",
     "text": [
      "['greatking@naver.com', 'travel@daum.net', 'apple@gmail.com', 'life@abc.co.kr']\n"
     ]
    }
   ],
   "source": [
    "import re\n",
    "a = '제 이메일 주소는 greatking@naver.com입니다. 오늘 저는 travel@daum.net 라는 주소로 메일을 보내려고 합니다. 저는 apple@gmail.com, life@abc.co.kr 라는 메일도 사용하고 있습니다.'\n",
    "#1번을 해보세요!\n",
    "b = re.findall(r'[a-z]+@[a-z.]+', a)\n",
    "print(b)"
   ]
  },
  {
   "cell_type": "markdown",
   "id": "0591e149",
   "metadata": {},
   "source": [
    "#### exam문자열에서 연도만 추출"
   ]
  },
  {
   "cell_type": "code",
   "execution_count": 15,
   "id": "79392130",
   "metadata": {
    "ExecuteTime": {
     "end_time": "2021-09-25T19:49:20.140008Z",
     "start_time": "2021-09-25T19:49:20.117992Z"
    }
   },
   "outputs": [
    {
     "name": "stdout",
     "output_type": "stream",
     "text": [
      "['92년', '88년', '2020년']\n"
     ]
    }
   ],
   "source": [
    "import re\n",
    "exam = '저는 92년에 태어났습니다. 88년에는 올림픽이 있었습니다. 지금은 2020년입니다.'\n",
    "#1번을 해보세요!\n",
    "print(re.findall('\\d.+?년', exam))"
   ]
  },
  {
   "cell_type": "markdown",
   "id": "5e8c7e98",
   "metadata": {
    "ExecuteTime": {
     "end_time": "2021-09-25T20:06:15.214265Z",
     "start_time": "2021-09-25T20:06:15.194059Z"
    }
   },
   "source": [
    "#### 문자열 d에서 .을 기준으로 문장나누기"
   ]
  },
  {
   "cell_type": "code",
   "execution_count": 16,
   "id": "67064881",
   "metadata": {
    "ExecuteTime": {
     "end_time": "2021-09-25T20:05:35.167521Z",
     "start_time": "2021-09-25T20:05:35.155482Z"
    }
   },
   "outputs": [
    {
     "name": "stdout",
     "output_type": "stream",
     "text": [
      "['I have a dog', ' I am not a girl', ' You are not alone', ' I am happy', '']\n"
     ]
    }
   ],
   "source": [
    "import re\n",
    "d = 'I have a dog. I am not a girl. You are not alone. I am happy.'\n",
    "\n",
    "print(re.split('\\.', d))"
   ]
  },
  {
   "cell_type": "code",
   "execution_count": 17,
   "id": "94a4cb51",
   "metadata": {
    "ExecuteTime": {
     "end_time": "2021-09-25T20:05:50.340002Z",
     "start_time": "2021-09-25T20:05:50.326997Z"
    }
   },
   "outputs": [
    {
     "name": "stdout",
     "output_type": "stream",
     "text": [
      "['I have a dog. I am not a girl. You are not alone. I am happy.']\n"
     ]
    }
   ],
   "source": [
    "import re\n",
    "d = 'I have a dog. I am not a girl. You are not alone. I am happy.'\n",
    "\n",
    "print(re.split('/.', d))"
   ]
  },
  {
   "cell_type": "markdown",
   "id": "4de20fdf",
   "metadata": {
    "ExecuteTime": {
     "end_time": "2021-09-25T20:07:08.616214Z",
     "start_time": "2021-09-25T20:07:08.609212Z"
    }
   },
   "source": [
    "#### 문자열 e에서 등장인물을 모두 추출하여 m에 저장 \n",
    "#### → m의 중복을 제거하고 리스트형태로 M에 저장하고 출력"
   ]
  },
  {
   "cell_type": "code",
   "execution_count": 28,
   "id": "88d89d27",
   "metadata": {
    "ExecuteTime": {
     "end_time": "2021-09-26T03:51:21.939231Z",
     "start_time": "2021-09-26T03:51:21.925228Z"
    }
   },
   "outputs": [
    {
     "data": {
      "text/plain": [
       "['Phoebe:', 'Chandler:']"
      ]
     },
     "execution_count": 28,
     "metadata": {},
     "output_type": "execute_result"
    }
   ],
   "source": [
    "import re\n",
    "e = \"Chandler: All right Joey, be nice. So does he have a hump? A hump and a hairpiece? Phoebe: Wait, does he eat chalk? Phoebe: Just, because, I don't want her to go through what I went through with Carl- oh!\"\n",
    "\n",
    "char = re.compile(r'[A-Z][a-z]+:')\n",
    "m = list(set(re.findall(char,e)))\n",
    "m"
   ]
  },
  {
   "cell_type": "code",
   "execution_count": 30,
   "id": "e471ead7",
   "metadata": {
    "ExecuteTime": {
     "end_time": "2021-09-26T03:53:31.147057Z",
     "start_time": "2021-09-26T03:53:31.141060Z"
    }
   },
   "outputs": [
    {
     "data": {
      "text/plain": [
       "['Phoebe:', 'Chandler:']"
      ]
     },
     "execution_count": 30,
     "metadata": {},
     "output_type": "execute_result"
    }
   ],
   "source": [
    "import re\n",
    "e = \"Chandler: All right Joey, be nice. So does he have a hump? A hump and a hairpiece? Phoebe: Wait, does he eat chalk? Phoebe: Just, because, I don't want her to go through what I went through with Carl- oh!\"\n",
    "\n",
    "m = re.findall('[A-Za-z]+:',e)\n",
    "m = list(set(m))\n",
    "m"
   ]
  }
 ],
 "metadata": {
  "hide_input": false,
  "kernelspec": {
   "display_name": "Python 3",
   "language": "python",
   "name": "python3"
  },
  "language_info": {
   "codemirror_mode": {
    "name": "ipython",
    "version": 3
   },
   "file_extension": ".py",
   "mimetype": "text/x-python",
   "name": "python",
   "nbconvert_exporter": "python",
   "pygments_lexer": "ipython3",
   "version": "3.8.8"
  },
  "toc": {
   "base_numbering": 1,
   "nav_menu": {},
   "number_sections": true,
   "sideBar": true,
   "skip_h1_title": false,
   "title_cell": "Table of Contents",
   "title_sidebar": "Contents",
   "toc_cell": false,
   "toc_position": {},
   "toc_section_display": true,
   "toc_window_display": false
  },
  "varInspector": {
   "cols": {
    "lenName": 16,
    "lenType": 16,
    "lenVar": 40
   },
   "kernels_config": {
    "python": {
     "delete_cmd_postfix": "",
     "delete_cmd_prefix": "del ",
     "library": "var_list.py",
     "varRefreshCmd": "print(var_dic_list())"
    },
    "r": {
     "delete_cmd_postfix": ") ",
     "delete_cmd_prefix": "rm(",
     "library": "var_list.r",
     "varRefreshCmd": "cat(var_dic_list()) "
    }
   },
   "types_to_exclude": [
    "module",
    "function",
    "builtin_function_or_method",
    "instance",
    "_Feature"
   ],
   "window_display": false
  }
 },
 "nbformat": 4,
 "nbformat_minor": 5
}
