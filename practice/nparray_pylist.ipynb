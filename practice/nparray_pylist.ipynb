{
 "cells": [
  {
   "cell_type": "markdown",
   "id": "119e6c44",
   "metadata": {
    "ExecuteTime": {
     "end_time": "2021-12-23T14:12:29.451097Z",
     "start_time": "2021-12-23T14:12:29.416002Z"
    }
   },
   "source": [
    "## Numpy\n",
    "수치해석용 파이썬 패키지\n",
    "* 다차원의 배열 자료구조 클래스인 ndarray 클래스를 지원 \n",
    "* 벡터와 행렬을 사용하는 선형대수 계산에 주로 사용됨\n",
    "* 행렬과 같은 다차원 배열의 경우 효율적\n",
    "\n",
    "### numpy array 특징\n",
    "* 모든 원소가 같은 자료형이어야 한다.\n",
    "* 원소의 갯수를 바꿀 수 없다.\n"
   ]
  },
  {
   "cell_type": "markdown",
   "id": "ecceba57",
   "metadata": {},
   "source": [
    "## numpy array vs python list\n",
    "* 여러 값을 보관한다는 공통점\n",
    "\n",
    "### 차이점?\n",
    "파이썬은 자체적으로 배열 자료형을 제공하지 않는다.\n",
    "* 문법 차이\n",
    "* 성능 차이 - 값이 저장되는 방식의 차이로 인해 발생\n",
    "    * python list : 다양한 자료형들을 동시에 입력 가능\n",
    "    * numpy array : 같은 자료형의 값만 입력 가능"
   ]
  },
  {
   "cell_type": "markdown",
   "id": "549416b5",
   "metadata": {},
   "source": [
    "### numpy array"
   ]
  },
  {
   "cell_type": "code",
   "execution_count": 1,
   "id": "6d5f0c23",
   "metadata": {
    "ExecuteTime": {
     "end_time": "2021-12-23T13:53:35.029095Z",
     "start_time": "2021-12-23T13:53:35.021100Z"
    }
   },
   "outputs": [],
   "source": [
    "import numpy as np\n",
    "from timeit import timeit"
   ]
  },
  {
   "cell_type": "code",
   "execution_count": 7,
   "id": "705e2fe6",
   "metadata": {
    "ExecuteTime": {
     "end_time": "2021-12-23T14:21:01.548147Z",
     "start_time": "2021-12-23T14:21:01.521185Z"
    }
   },
   "outputs": [],
   "source": [
    "nar = np.array([0,1,2,3,4,5,6,7,8,9])"
   ]
  },
  {
   "cell_type": "code",
   "execution_count": 8,
   "id": "24cd4440",
   "metadata": {
    "ExecuteTime": {
     "end_time": "2021-12-23T14:21:30.278837Z",
     "start_time": "2021-12-23T14:21:30.213326Z"
    }
   },
   "outputs": [
    {
     "data": {
      "text/plain": [
       "array([0, 1, 2, 3, 4, 5, 6, 7, 8, 9])"
      ]
     },
     "execution_count": 8,
     "metadata": {},
     "output_type": "execute_result"
    }
   ],
   "source": [
    "nar"
   ]
  },
  {
   "cell_type": "code",
   "execution_count": 9,
   "id": "fdf82481",
   "metadata": {
    "ExecuteTime": {
     "end_time": "2021-12-23T14:21:50.296247Z",
     "start_time": "2021-12-23T14:21:50.241517Z"
    }
   },
   "outputs": [
    {
     "data": {
      "text/plain": [
       "numpy.ndarray"
      ]
     },
     "execution_count": 9,
     "metadata": {},
     "output_type": "execute_result"
    }
   ],
   "source": [
    "type(nar)"
   ]
  },
  {
   "cell_type": "code",
   "execution_count": 10,
   "id": "cec73b05",
   "metadata": {
    "ExecuteTime": {
     "end_time": "2021-12-23T14:22:10.466657Z",
     "start_time": "2021-12-23T14:22:10.437277Z"
    }
   },
   "outputs": [
    {
     "data": {
      "text/plain": [
       "array([ 0,  2,  4,  6,  8, 10, 12, 14, 16, 18])"
      ]
     },
     "execution_count": 10,
     "metadata": {},
     "output_type": "execute_result"
    }
   ],
   "source": [
    "nar * 2"
   ]
  },
  {
   "cell_type": "markdown",
   "id": "0fa9b796",
   "metadata": {},
   "source": [
    "### python list"
   ]
  },
  {
   "cell_type": "code",
   "execution_count": 11,
   "id": "336cf669",
   "metadata": {
    "ExecuteTime": {
     "end_time": "2021-12-23T14:23:17.351193Z",
     "start_time": "2021-12-23T14:23:17.340471Z"
    }
   },
   "outputs": [],
   "source": [
    "plist = [0,1,2,3,4,5,6,7,8,9]"
   ]
  },
  {
   "cell_type": "markdown",
   "id": "3b337d22",
   "metadata": {},
   "source": [
    "* 일반적인 리스트 객체에 정수를 곱하면 객체의 크기가 정수배 만큼으로 증가한다."
   ]
  },
  {
   "cell_type": "code",
   "execution_count": 12,
   "id": "10cf56eb",
   "metadata": {
    "ExecuteTime": {
     "end_time": "2021-12-23T14:23:37.252170Z",
     "start_time": "2021-12-23T14:23:37.225622Z"
    }
   },
   "outputs": [
    {
     "data": {
      "text/plain": [
       "[0, 1, 2, 3, 4, 5, 6, 7, 8, 9, 0, 1, 2, 3, 4, 5, 6, 7, 8, 9]"
      ]
     },
     "execution_count": 12,
     "metadata": {},
     "output_type": "execute_result"
    }
   ],
   "source": [
    "plist * 2"
   ]
  },
  {
   "cell_type": "code",
   "execution_count": 14,
   "id": "c4a48ce4",
   "metadata": {
    "ExecuteTime": {
     "end_time": "2021-12-23T14:25:48.229715Z",
     "start_time": "2021-12-23T14:25:48.210720Z"
    }
   },
   "outputs": [],
   "source": [
    "mul_plist = [ num*2 for num in plist ]"
   ]
  },
  {
   "cell_type": "code",
   "execution_count": 15,
   "id": "5d4e0b3b",
   "metadata": {
    "ExecuteTime": {
     "end_time": "2021-12-23T14:26:06.122868Z",
     "start_time": "2021-12-23T14:26:06.110904Z"
    }
   },
   "outputs": [
    {
     "data": {
      "text/plain": [
       "[0, 2, 4, 6, 8, 10, 12, 14, 16, 18]"
      ]
     },
     "execution_count": 15,
     "metadata": {},
     "output_type": "execute_result"
    }
   ],
   "source": [
    "mul_plist"
   ]
  },
  {
   "cell_type": "code",
   "execution_count": 16,
   "id": "2bb32639",
   "metadata": {
    "ExecuteTime": {
     "end_time": "2021-12-23T14:31:30.083172Z",
     "start_time": "2021-12-23T14:31:30.064060Z"
    }
   },
   "outputs": [],
   "source": [
    "a = np.array([1, 2, 3])\n",
    "b = np.array([10, 20, 30])"
   ]
  },
  {
   "cell_type": "code",
   "execution_count": 17,
   "id": "a3c9d07d",
   "metadata": {
    "ExecuteTime": {
     "end_time": "2021-12-23T14:31:55.859093Z",
     "start_time": "2021-12-23T14:31:55.834128Z"
    }
   },
   "outputs": [
    {
     "data": {
      "text/plain": [
       "array([12, 24, 36])"
      ]
     },
     "execution_count": 17,
     "metadata": {},
     "output_type": "execute_result"
    }
   ],
   "source": [
    "2 * a + b"
   ]
  },
  {
   "cell_type": "code",
   "execution_count": 18,
   "id": "96c59b16",
   "metadata": {
    "ExecuteTime": {
     "end_time": "2021-12-23T14:32:52.807131Z",
     "start_time": "2021-12-23T14:32:52.787133Z"
    },
    "scrolled": true
   },
   "outputs": [
    {
     "data": {
      "text/plain": [
       "array([False,  True, False])"
      ]
     },
     "execution_count": 18,
     "metadata": {},
     "output_type": "execute_result"
    }
   ],
   "source": [
    "a == 2"
   ]
  },
  {
   "cell_type": "code",
   "execution_count": 19,
   "id": "e5cc8f28",
   "metadata": {
    "ExecuteTime": {
     "end_time": "2021-12-23T14:33:30.870761Z",
     "start_time": "2021-12-23T14:33:30.813785Z"
    }
   },
   "outputs": [
    {
     "data": {
      "text/plain": [
       "array([False,  True,  True])"
      ]
     },
     "execution_count": 19,
     "metadata": {},
     "output_type": "execute_result"
    }
   ],
   "source": [
    "b > 10"
   ]
  },
  {
   "cell_type": "code",
   "execution_count": 20,
   "id": "bbf644ec",
   "metadata": {
    "ExecuteTime": {
     "end_time": "2021-12-23T14:33:50.058537Z",
     "start_time": "2021-12-23T14:33:50.032537Z"
    }
   },
   "outputs": [
    {
     "data": {
      "text/plain": [
       "array([False,  True, False])"
      ]
     },
     "execution_count": 20,
     "metadata": {},
     "output_type": "execute_result"
    }
   ],
   "source": [
    "(a == 2) & (b > 10)"
   ]
  },
  {
   "cell_type": "markdown",
   "id": "caa53a28",
   "metadata": {},
   "source": [
    "---"
   ]
  },
  {
   "cell_type": "markdown",
   "id": "e60dd6f2",
   "metadata": {},
   "source": [
    "### 속도 비교"
   ]
  },
  {
   "cell_type": "code",
   "execution_count": 3,
   "id": "45bb4620",
   "metadata": {
    "ExecuteTime": {
     "end_time": "2021-12-23T13:57:26.389638Z",
     "start_time": "2021-12-23T13:56:59.948798Z"
    }
   },
   "outputs": [],
   "source": [
    "x = np.arange(100000000)\n",
    "y = list(range(100000000))"
   ]
  },
  {
   "cell_type": "code",
   "execution_count": 4,
   "id": "0d8eab3d",
   "metadata": {
    "ExecuteTime": {
     "end_time": "2021-12-23T14:00:57.537921Z",
     "start_time": "2021-12-23T14:00:54.080661Z"
    }
   },
   "outputs": [
    {
     "data": {
      "text/plain": [
       "3.4208294000000024"
      ]
     },
     "execution_count": 4,
     "metadata": {},
     "output_type": "execute_result"
    }
   ],
   "source": [
    "timeit(lambda: x * 2, number = 1)"
   ]
  },
  {
   "cell_type": "code",
   "execution_count": 5,
   "id": "5f653f02",
   "metadata": {
    "ExecuteTime": {
     "end_time": "2021-12-23T14:02:07.865527Z",
     "start_time": "2021-12-23T14:01:37.822090Z"
    }
   },
   "outputs": [
    {
     "data": {
      "text/plain": [
       "29.956887800000004"
      ]
     },
     "execution_count": 5,
     "metadata": {},
     "output_type": "execute_result"
    }
   ],
   "source": [
    "timeit(lambda: [n * 2 for n in y], number = 1)"
   ]
  },
  {
   "cell_type": "code",
   "execution_count": null,
   "id": "cd3d477d",
   "metadata": {},
   "outputs": [],
   "source": []
  }
 ],
 "metadata": {
  "hide_input": false,
  "kernelspec": {
   "display_name": "Python 3",
   "language": "python",
   "name": "python3"
  },
  "language_info": {
   "codemirror_mode": {
    "name": "ipython",
    "version": 3
   },
   "file_extension": ".py",
   "mimetype": "text/x-python",
   "name": "python",
   "nbconvert_exporter": "python",
   "pygments_lexer": "ipython3",
   "version": "3.8.8"
  },
  "toc": {
   "base_numbering": 1,
   "nav_menu": {},
   "number_sections": true,
   "sideBar": true,
   "skip_h1_title": false,
   "title_cell": "Table of Contents",
   "title_sidebar": "Contents",
   "toc_cell": false,
   "toc_position": {},
   "toc_section_display": true,
   "toc_window_display": false
  },
  "varInspector": {
   "cols": {
    "lenName": 16,
    "lenType": 16,
    "lenVar": 40
   },
   "kernels_config": {
    "python": {
     "delete_cmd_postfix": "",
     "delete_cmd_prefix": "del ",
     "library": "var_list.py",
     "varRefreshCmd": "print(var_dic_list())"
    },
    "r": {
     "delete_cmd_postfix": ") ",
     "delete_cmd_prefix": "rm(",
     "library": "var_list.r",
     "varRefreshCmd": "cat(var_dic_list()) "
    }
   },
   "types_to_exclude": [
    "module",
    "function",
    "builtin_function_or_method",
    "instance",
    "_Feature"
   ],
   "window_display": false
  }
 },
 "nbformat": 4,
 "nbformat_minor": 5
}
