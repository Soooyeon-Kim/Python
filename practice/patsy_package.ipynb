{
 "cells": [
  {
   "cell_type": "markdown",
   "id": "859b61e8",
   "metadata": {
    "ExecuteTime": {
     "end_time": "2021-12-28T03:00:12.403429Z",
     "start_time": "2021-12-28T03:00:12.391227Z"
    }
   },
   "source": [
    "# patsy 패키지\n",
    "patsy 패키지를 사용하여 데이터프레임에서 원하는 데이터만 선택하거나 새로운 데이터를 조합 생성하는 방법<br>\n",
    "patsy 패키지가 제공하는 `demo_data()` 함수 사용\n",
    "* `demo_data()` 함수는 x로 시작하는 변수에 대해 임의의 실수 데이터를 생성"
   ]
  },
  {
   "cell_type": "code",
   "execution_count": 104,
   "id": "843505eb",
   "metadata": {
    "ExecuteTime": {
     "end_time": "2021-12-28T04:29:07.289397Z",
     "start_time": "2021-12-28T04:29:07.258016Z"
    }
   },
   "outputs": [
    {
     "data": {
      "text/html": [
       "<div>\n",
       "<style scoped>\n",
       "    .dataframe tbody tr th:only-of-type {\n",
       "        vertical-align: middle;\n",
       "    }\n",
       "\n",
       "    .dataframe tbody tr th {\n",
       "        vertical-align: top;\n",
       "    }\n",
       "\n",
       "    .dataframe thead th {\n",
       "        text-align: right;\n",
       "    }\n",
       "</style>\n",
       "<table border=\"1\" class=\"dataframe\">\n",
       "  <thead>\n",
       "    <tr style=\"text-align: right;\">\n",
       "      <th></th>\n",
       "      <th>x1</th>\n",
       "      <th>x2</th>\n",
       "      <th>x3</th>\n",
       "      <th>x4</th>\n",
       "      <th>x5</th>\n",
       "    </tr>\n",
       "  </thead>\n",
       "  <tbody>\n",
       "    <tr>\n",
       "      <th>0</th>\n",
       "      <td>1.764052</td>\n",
       "      <td>-0.977278</td>\n",
       "      <td>0.144044</td>\n",
       "      <td>0.333674</td>\n",
       "      <td>-2.552990</td>\n",
       "    </tr>\n",
       "    <tr>\n",
       "      <th>1</th>\n",
       "      <td>0.400157</td>\n",
       "      <td>0.950088</td>\n",
       "      <td>1.454274</td>\n",
       "      <td>1.494079</td>\n",
       "      <td>0.653619</td>\n",
       "    </tr>\n",
       "    <tr>\n",
       "      <th>2</th>\n",
       "      <td>0.978738</td>\n",
       "      <td>-0.151357</td>\n",
       "      <td>0.761038</td>\n",
       "      <td>-0.205158</td>\n",
       "      <td>0.864436</td>\n",
       "    </tr>\n",
       "    <tr>\n",
       "      <th>3</th>\n",
       "      <td>2.240893</td>\n",
       "      <td>-0.103219</td>\n",
       "      <td>0.121675</td>\n",
       "      <td>0.313068</td>\n",
       "      <td>-0.742165</td>\n",
       "    </tr>\n",
       "    <tr>\n",
       "      <th>4</th>\n",
       "      <td>1.867558</td>\n",
       "      <td>0.410599</td>\n",
       "      <td>0.443863</td>\n",
       "      <td>-0.854096</td>\n",
       "      <td>2.269755</td>\n",
       "    </tr>\n",
       "  </tbody>\n",
       "</table>\n",
       "</div>"
      ],
      "text/plain": [
       "         x1        x2        x3        x4        x5\n",
       "0  1.764052 -0.977278  0.144044  0.333674 -2.552990\n",
       "1  0.400157  0.950088  1.454274  1.494079  0.653619\n",
       "2  0.978738 -0.151357  0.761038 -0.205158  0.864436\n",
       "3  2.240893 -0.103219  0.121675  0.313068 -0.742165\n",
       "4  1.867558  0.410599  0.443863 -0.854096  2.269755"
      ]
     },
     "execution_count": 104,
     "metadata": {},
     "output_type": "execute_result"
    }
   ],
   "source": [
    "from patsy import demo_data\n",
    "df = pd.DataFrame(demo_data('x1', 'x2','x3','x4','x5'))\n",
    "df"
   ]
  },
  {
   "cell_type": "markdown",
   "id": "367241ba",
   "metadata": {
    "ExecuteTime": {
     "end_time": "2021-12-28T04:34:52.876633Z",
     "start_time": "2021-12-28T04:34:52.866850Z"
    }
   },
   "source": [
    "### dmatrix()"
   ]
  },
  {
   "cell_type": "markdown",
   "id": "95ba0e7f",
   "metadata": {},
   "source": [
    "* `dmatrix()` 함수는 데이터 프레임에 상수항을 추가하거나 원하는 데이터만 선택하거나 변형할 수 있다. "
   ]
  },
  {
   "cell_type": "markdown",
   "id": "86eca65a",
   "metadata": {},
   "source": [
    "`dmatrx()` 함수에 **모형 정의 문자열** formula와 원 데이터를 담은 **데이터프레임** data을 입력하면<br> formula에서 지정한 대로 변환된 데이터 data_transformed를 출력한다."
   ]
  },
  {
   "cell_type": "markdown",
   "id": "baa3897e",
   "metadata": {
    "ExecuteTime": {
     "end_time": "2021-12-28T04:29:35.851280Z",
     "start_time": "2021-12-28T04:29:35.824153Z"
    }
   },
   "source": [
    "```data_transformed = dmatrix(formula, data)```\n",
    "\n",
    "* formula : 데이터 열 이름 기반으로 구성된 문자열\n",
    "* 선택하고자 하는 데이터 열 이름을 + 로 연결한 formula 문자열을 입력하면 자동으로 해당 데이터만 출력\n",
    "* ex) 전체 데이터 중 x1만을 뽑고 싶다면 formula 문자열에 x1 + 0 이라고 입력한다."
   ]
  },
  {
   "cell_type": "code",
   "execution_count": 108,
   "id": "7eb78906",
   "metadata": {
    "ExecuteTime": {
     "end_time": "2021-12-28T04:30:19.945095Z",
     "start_time": "2021-12-28T04:30:19.929923Z"
    }
   },
   "outputs": [
    {
     "data": {
      "text/plain": [
       "DesignMatrix with shape (5, 1)\n",
       "       x1\n",
       "  1.76405\n",
       "  0.40016\n",
       "  0.97874\n",
       "  2.24089\n",
       "  1.86756\n",
       "  Terms:\n",
       "    'x1' (column 0)"
      ]
     },
     "execution_count": 108,
     "metadata": {},
     "output_type": "execute_result"
    }
   ],
   "source": [
    "from patsy import dmatrix \n",
    "\n",
    "dmatrix(\"x1 + 0\", data=df)"
   ]
  },
  {
   "cell_type": "code",
   "execution_count": 109,
   "id": "b54f27b9",
   "metadata": {
    "ExecuteTime": {
     "end_time": "2021-12-28T04:32:41.973048Z",
     "start_time": "2021-12-28T04:32:41.954665Z"
    }
   },
   "outputs": [
    {
     "data": {
      "text/plain": [
       "DesignMatrix with shape (5, 3)\n",
       "       x1        x2       x3\n",
       "  1.76405  -0.97728  0.14404\n",
       "  0.40016   0.95009  1.45427\n",
       "  0.97874  -0.15136  0.76104\n",
       "  2.24089  -0.10322  0.12168\n",
       "  1.86756   0.41060  0.44386\n",
       "  Terms:\n",
       "    'x1' (column 0)\n",
       "    'x2' (column 1)\n",
       "    'x3' (column 2)"
      ]
     },
     "execution_count": 109,
     "metadata": {},
     "output_type": "execute_result"
    }
   ],
   "source": [
    "# 전체 데이터 중 x1, x2, x3를 뽑고 싶으면 formula 문자열에 x1 + x2 + x3 + 0이라고 입력\n",
    "dmatrix('x1 + x2 + x3 + 0', data = df)"
   ]
  },
  {
   "cell_type": "markdown",
   "id": "88813fea",
   "metadata": {},
   "source": [
    "* **`+0`** 은 1로 구성된 상수항을 포함하지 말라는 의미이다.\n",
    "* **`- 1`** 도 + 0과 같은 뜻\n",
    "* 만약 이 부분이 없으면 patsy는 자동으로 가장 앞에 `Intercept`란 이름의 **상수항 데이터**를 추가함"
   ]
  },
  {
   "cell_type": "code",
   "execution_count": 110,
   "id": "66f3fe2f",
   "metadata": {
    "ExecuteTime": {
     "end_time": "2021-12-28T04:34:01.220941Z",
     "start_time": "2021-12-28T04:34:01.208938Z"
    }
   },
   "outputs": [
    {
     "data": {
      "text/plain": [
       "DesignMatrix with shape (5, 4)\n",
       "  Intercept       x1        x2       x3\n",
       "          1  1.76405  -0.97728  0.14404\n",
       "          1  0.40016   0.95009  1.45427\n",
       "          1  0.97874  -0.15136  0.76104\n",
       "          1  2.24089  -0.10322  0.12168\n",
       "          1  1.86756   0.41060  0.44386\n",
       "  Terms:\n",
       "    'Intercept' (column 0)\n",
       "    'x1' (column 1)\n",
       "    'x2' (column 2)\n",
       "    'x3' (column 3)"
      ]
     },
     "execution_count": 110,
     "metadata": {},
     "output_type": "execute_result"
    }
   ],
   "source": [
    "dmatrix('x1+ x2 + x3', data = df)"
   ]
  },
  {
   "cell_type": "markdown",
   "id": "4759abac",
   "metadata": {},
   "source": [
    "`dmatrix()` 함수는 변수를 어떤 함수에 넣어서 다른 값으로 만드는 수학 변환(transform)도 가능"
   ]
  },
  {
   "cell_type": "code",
   "execution_count": 112,
   "id": "00bb587b",
   "metadata": {
    "ExecuteTime": {
     "end_time": "2021-12-28T04:36:02.017505Z",
     "start_time": "2021-12-28T04:36:01.998502Z"
    }
   },
   "outputs": [
    {
     "data": {
      "text/plain": [
       "DesignMatrix with shape (5, 3)\n",
       "  Intercept       x1  np.log(np.abs(x2))\n",
       "          1  1.76405            -0.02298\n",
       "          1  0.40016            -0.05120\n",
       "          1  0.97874            -1.88811\n",
       "          1  2.24089            -2.27090\n",
       "          1  1.86756            -0.89014\n",
       "  Terms:\n",
       "    'Intercept' (column 0)\n",
       "    'x1' (column 1)\n",
       "    'np.log(np.abs(x2))' (column 2)"
      ]
     },
     "execution_count": 112,
     "metadata": {},
     "output_type": "execute_result"
    }
   ],
   "source": [
    "dmatrix('x1 + np.log(np.abs(x2))', df)"
   ]
  },
  {
   "cell_type": "markdown",
   "id": "6f19c638",
   "metadata": {},
   "source": [
    "numpy 함수 뿐 아니라 `사용자 정의 함수`도 사용 가능"
   ]
  },
  {
   "cell_type": "code",
   "execution_count": 114,
   "id": "c214181b",
   "metadata": {
    "ExecuteTime": {
     "end_time": "2021-12-28T04:37:56.999635Z",
     "start_time": "2021-12-28T04:37:56.988694Z"
    }
   },
   "outputs": [],
   "source": [
    "def ten_times(x):\n",
    "    return 10 * x"
   ]
  },
  {
   "cell_type": "code",
   "execution_count": 115,
   "id": "3f35544d",
   "metadata": {
    "ExecuteTime": {
     "end_time": "2021-12-28T04:38:00.701971Z",
     "start_time": "2021-12-28T04:38:00.681481Z"
    }
   },
   "outputs": [
    {
     "data": {
      "text/plain": [
       "DesignMatrix with shape (5, 2)\n",
       "  Intercept  ten_times(x1)\n",
       "          1       17.64052\n",
       "          1        4.00157\n",
       "          1        9.78738\n",
       "          1       22.40893\n",
       "          1       18.67558\n",
       "  Terms:\n",
       "    'Intercept' (column 0)\n",
       "    'ten_times(x1)' (column 1)"
      ]
     },
     "execution_count": 115,
     "metadata": {},
     "output_type": "execute_result"
    }
   ],
   "source": [
    "dmatrix(\"ten_times(x1)\", df)"
   ]
  },
  {
   "cell_type": "markdown",
   "id": "7ce956a6",
   "metadata": {},
   "source": [
    "* 기존의 데이터를 조합 연산하여 새로운 데이터를 만드는 것도 가능\n",
    "* 특히 두 변수를 곱해서 만들어지는 새로운 변수를 **상호작용(interaction)** 이라고 한다.\n",
    "    * 상호작용은 **`:`** 기호를 사용하여 만들어진다."
   ]
  },
  {
   "cell_type": "code",
   "execution_count": 116,
   "id": "6bd6c695",
   "metadata": {
    "ExecuteTime": {
     "end_time": "2021-12-28T04:40:00.348067Z",
     "start_time": "2021-12-28T04:40:00.323975Z"
    }
   },
   "outputs": [
    {
     "data": {
      "text/plain": [
       "DesignMatrix with shape (5, 3)\n",
       "       x1        x2     x1:x2\n",
       "  1.76405  -0.97728  -1.72397\n",
       "  0.40016   0.95009   0.38018\n",
       "  0.97874  -0.15136  -0.14814\n",
       "  2.24089  -0.10322  -0.23130\n",
       "  1.86756   0.41060   0.76682\n",
       "  Terms:\n",
       "    'x1' (column 0)\n",
       "    'x2' (column 1)\n",
       "    'x1:x2' (column 2)"
      ]
     },
     "execution_count": 116,
     "metadata": {},
     "output_type": "execute_result"
    }
   ],
   "source": [
    "dmatrix(\"x1 + x2 + x1:x2 + 0\", df)"
   ]
  },
  {
   "cell_type": "markdown",
   "id": "74122b65",
   "metadata": {},
   "source": [
    "* 두 변수와 상호작용을 한꺼번에 표시할 때는 **`*`** 를 사용한다.\n",
    "* 따라서 다음 식은 바로 전의 수식과 동일하다."
   ]
  },
  {
   "cell_type": "code",
   "execution_count": 117,
   "id": "77cdd2a7",
   "metadata": {
    "ExecuteTime": {
     "end_time": "2021-12-28T04:44:07.464050Z",
     "start_time": "2021-12-28T04:44:07.439785Z"
    }
   },
   "outputs": [
    {
     "data": {
      "text/plain": [
       "DesignMatrix with shape (5, 3)\n",
       "       x1        x2     x1:x2\n",
       "  1.76405  -0.97728  -1.72397\n",
       "  0.40016   0.95009   0.38018\n",
       "  0.97874  -0.15136  -0.14814\n",
       "  2.24089  -0.10322  -0.23130\n",
       "  1.86756   0.41060   0.76682\n",
       "  Terms:\n",
       "    'x1' (column 0)\n",
       "    'x2' (column 1)\n",
       "    'x1:x2' (column 2)"
      ]
     },
     "execution_count": 117,
     "metadata": {},
     "output_type": "execute_result"
    }
   ],
   "source": [
    "dmatrix(\"x1 * x2 + 0\", df)"
   ]
  },
  {
   "cell_type": "markdown",
   "id": "f0725518",
   "metadata": {},
   "source": [
    "* 상호작용을 제외한 경우에는 I()라는 연산자를 사용하여 연산과정을 명시해야 한다. "
   ]
  },
  {
   "cell_type": "code",
   "execution_count": 118,
   "id": "a5fe633e",
   "metadata": {
    "ExecuteTime": {
     "end_time": "2021-12-28T04:45:29.745802Z",
     "start_time": "2021-12-28T04:45:29.726433Z"
    }
   },
   "outputs": [
    {
     "data": {
      "text/plain": [
       "DesignMatrix with shape (5, 3)\n",
       "       x1        x2  I(x1 + x2)\n",
       "  1.76405  -0.97728     0.78677\n",
       "  0.40016   0.95009     1.35025\n",
       "  0.97874  -0.15136     0.82738\n",
       "  2.24089  -0.10322     2.13767\n",
       "  1.86756   0.41060     2.27816\n",
       "  Terms:\n",
       "    'x1' (column 0)\n",
       "    'x2' (column 1)\n",
       "    'I(x1 + x2)' (column 2)"
      ]
     },
     "execution_count": 118,
     "metadata": {},
     "output_type": "execute_result"
    }
   ],
   "source": [
    "# 두 변수 x1과 x2를 더하여 새로운 데이터를 만들고 싶을 때\n",
    "dmatrix(\"x1 + x2 + I(x1 + x2) + 0\", df)"
   ]
  },
  {
   "cell_type": "markdown",
   "id": "396b6432",
   "metadata": {},
   "source": [
    "선형회귀분석을 할 때는 `조건수(condition number)`의 영향 때문에 <br>데이터의 **평균을 0으로 표준편차를 1**로 만드는 `스케일링(scaling)` 작업을 하는 것이 분석 결과의 품질을 높일 수 있다. `patsy` 패키지는 스케일링을 위한 함수도 제공한다.\n",
    "* `center()` : 평균을 0으로 스케일링\n",
    "\n",
    "* `standardize()` : 평균을 0으로하고 표준편차를 1로 스케일링\n",
    "\n",
    "* `scale()` : standardize() 과 같음"
   ]
  },
  {
   "cell_type": "code",
   "execution_count": 119,
   "id": "4927c2bd",
   "metadata": {
    "ExecuteTime": {
     "end_time": "2021-12-28T04:47:56.897704Z",
     "start_time": "2021-12-28T04:47:56.876510Z"
    }
   },
   "outputs": [
    {
     "data": {
      "text/plain": [
       "DesignMatrix with shape (5, 1)\n",
       "  center(x1)\n",
       "     0.31377\n",
       "    -1.05012\n",
       "    -0.47154\n",
       "     0.79061\n",
       "     0.41728\n",
       "  Terms:\n",
       "    'center(x1)' (column 0)"
      ]
     },
     "execution_count": 119,
     "metadata": {},
     "output_type": "execute_result"
    }
   ],
   "source": [
    "dm = dmatrix(\"center(x1) + 0\", df)\n",
    "dm"
   ]
  },
  {
   "cell_type": "code",
   "execution_count": 120,
   "id": "7206cb88",
   "metadata": {
    "ExecuteTime": {
     "end_time": "2021-12-28T05:02:29.456017Z",
     "start_time": "2021-12-28T05:02:29.429978Z"
    }
   },
   "outputs": [
    {
     "data": {
      "text/plain": [
       "0    0.313773\n",
       "1   -1.050123\n",
       "2   -0.471542\n",
       "3    0.790613\n",
       "4    0.417278\n",
       "Name: x1, dtype: float64"
      ]
     },
     "execution_count": 120,
     "metadata": {},
     "output_type": "execute_result"
    }
   ],
   "source": [
    "# x1 데이터에서 x1의 평균을 빼는 것\n",
    "df.x1 - np.mean(df.x1)"
   ]
  },
  {
   "cell_type": "markdown",
   "id": "47edf669",
   "metadata": {
    "ExecuteTime": {
     "end_time": "2021-12-28T05:02:57.340858Z",
     "start_time": "2021-12-28T05:02:57.332856Z"
    }
   },
   "source": [
    "* 이 때 평균값은 `design_info`라는 속성 내부에 저장된다.\n",
    "* 값을 저장하는 이유는 새로운 검증용 데이터로 실제 예측을 할 때 <br>모형을 학습할 때 사용한 것과 동일한 전처리를 해야 한다. <br>이 때 학습용 데이터의 평균값을 빼야 한다는 점에서 처리 과정에 계산한 평균값을 기억하고 있어야 한다."
   ]
  },
  {
   "cell_type": "code",
   "execution_count": 138,
   "id": "a83514aa",
   "metadata": {
    "ExecuteTime": {
     "end_time": "2021-12-28T05:04:44.275137Z",
     "start_time": "2021-12-28T05:04:44.255172Z"
    }
   },
   "outputs": [
    {
     "data": {
      "text/plain": [
       "{EvalFactor('center(x1)'): FactorInfo(factor=EvalFactor('center(x1)'),\n",
       "            type='numerical',\n",
       "            state=<factor state>,\n",
       "            num_columns=1)}"
      ]
     },
     "execution_count": 138,
     "metadata": {},
     "output_type": "execute_result"
    }
   ],
   "source": [
    "dm.design_info.factor_infos"
   ]
  },
  {
   "cell_type": "code",
   "execution_count": null,
   "id": "ae7a7415",
   "metadata": {},
   "outputs": [],
   "source": []
  }
 ],
 "metadata": {
  "hide_input": false,
  "kernelspec": {
   "display_name": "Python 3",
   "language": "python",
   "name": "python3"
  },
  "language_info": {
   "codemirror_mode": {
    "name": "ipython",
    "version": 3
   },
   "file_extension": ".py",
   "mimetype": "text/x-python",
   "name": "python",
   "nbconvert_exporter": "python",
   "pygments_lexer": "ipython3",
   "version": "3.8.8"
  },
  "toc": {
   "base_numbering": 1,
   "nav_menu": {},
   "number_sections": true,
   "sideBar": true,
   "skip_h1_title": false,
   "title_cell": "Table of Contents",
   "title_sidebar": "Contents",
   "toc_cell": false,
   "toc_position": {},
   "toc_section_display": true,
   "toc_window_display": false
  },
  "varInspector": {
   "cols": {
    "lenName": 16,
    "lenType": 16,
    "lenVar": 40
   },
   "kernels_config": {
    "python": {
     "delete_cmd_postfix": "",
     "delete_cmd_prefix": "del ",
     "library": "var_list.py",
     "varRefreshCmd": "print(var_dic_list())"
    },
    "r": {
     "delete_cmd_postfix": ") ",
     "delete_cmd_prefix": "rm(",
     "library": "var_list.r",
     "varRefreshCmd": "cat(var_dic_list()) "
    }
   },
   "types_to_exclude": [
    "module",
    "function",
    "builtin_function_or_method",
    "instance",
    "_Feature"
   ],
   "window_display": false
  }
 },
 "nbformat": 4,
 "nbformat_minor": 5
}
