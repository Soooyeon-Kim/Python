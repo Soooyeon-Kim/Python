{
 "cells": [
  {
   "cell_type": "code",
   "execution_count": 14,
   "id": "e65e5d28",
   "metadata": {
    "ExecuteTime": {
     "end_time": "2021-10-19T02:26:02.118433Z",
     "start_time": "2021-10-19T02:26:01.911074Z"
    }
   },
   "outputs": [
    {
     "data": {
      "image/png": "[encoded data removed]",
      "text/plain": [
       "<Figure size 432x288 with 1 Axes>"
      ]
     },
     "metadata": {
      "needs_background": "light"
     },
     "output_type": "display_data"
    }
   ],
   "source": [
    "import matplotlib as mpl\n",
    "mpl.use(\"Agg\")\n",
    "import matplotlib.pyplot as plt\n",
    "import numpy as np\n",
    "%matplotlib inline\n",
    "\n",
    "X = [8.70153760, 3.90825773, 1.89362433, 3.28730045, 7.39333004, 2.98984649, 2.25757240, 9.84450732, 9.94589513, 5.48321616]\n",
    "Y = [5.64413093, 3.75876583, 3.87233310, 4.40990425, 6.43845020, 4.02827829, 2.26105955, 7.15768995, 6.29097441, 5.19692852]\n",
    "\n",
    "'''\n",
    "beta_0과 beta_1 을 변경하면서 그래프에 표시되는 선을 확인한다.\n",
    "beta_0 : 기울기 / beta_1 : 절편\n",
    "'''\n",
    "\n",
    "beta_0 = 0.5 # beta_0에 저장된 기울기 값을 조정 \n",
    "beta_1 = 2 # beta_1에 저장된 절편 값을 조정 \n",
    "\n",
    "plt.scatter(X, Y) # (x, y) 점 \n",
    "plt.plot([0, 10], [beta_1, 10 * beta_0 + beta_1], c='r') # y = beta_0 * x + beta_1 에 해당하는 선 \n",
    "\n",
    "plt.xlim(0, 10) # 그래프의 X축을 설정  \n",
    "plt.ylim(0, 10) # 그래프의 Y축을 설정 \n",
    "\n",
    "# 이미지를 표시\n",
    "plt.savefig(\"test.png\")"
   ]
  },
  {
   "cell_type": "markdown",
   "id": "b6425f72",
   "metadata": {
    "ExecuteTime": {
     "end_time": "2021-10-19T02:46:30.943661Z",
     "start_time": "2021-10-19T02:46:30.934651Z"
    }
   },
   "source": [
    "### loss function\n",
    "* ∑ \n",
    "i\n",
    "N\n",
    "​\n",
    " (y \n",
    "(i)\n",
    " −(β \n",
    "0\n",
    "​\n",
    " x \n",
    "(i)\n",
    " +β \n",
    "1\n",
    "​\n",
    " )) \n",
    "2"
   ]
  },
  {
   "cell_type": "code",
   "execution_count": 13,
   "id": "951a7929",
   "metadata": {
    "ExecuteTime": {
     "end_time": "2021-10-19T02:25:24.209522Z",
     "start_time": "2021-10-19T02:25:24.023632Z"
    }
   },
   "outputs": [
    {
     "name": "stdout",
     "output_type": "stream",
     "text": [
      "Loss: 46.341726\n"
     ]
    },
    {
     "data": {
      "image/png": "[encoded data removed]",
      "text/plain": [
       "<Figure size 432x288 with 1 Axes>"
      ]
     },
     "metadata": {
      "needs_background": "light"
     },
     "output_type": "display_data"
    }
   ],
   "source": [
    "import matplotlib as mpl\n",
    "mpl.use(\"Agg\")\n",
    "import matplotlib.pyplot as plt\n",
    "import numpy as np\n",
    "%matplotlib inline\n",
    "\n",
    "def loss(x, y, beta_0, beta_1):\n",
    "    N = len(x)\n",
    "    \n",
    "    '''\n",
    "    x, y, beta_0, beta_1 을 이용해 loss값을 계산한 뒤 리턴 \n",
    "    '''\n",
    "    total_loss = 0\n",
    "    for i in range(N):\n",
    "        x_i = x[i] # 실제 인덱스 i번 째 x 값\n",
    "        y_i = y[i] # 실제 인덱스 i번 째 y 값\n",
    "        \n",
    "        y_predicted = beta_0 * x_i + beta_1\n",
    "        diff = (y_i - y_predicted) ** 2\n",
    "        total_loss += diff\n",
    "    \n",
    "    return total_loss\n",
    "\n",
    "X = [8.70153760, 3.90825773, 1.89362433, 3.28730045, 7.39333004, 2.98984649, 2.25757240, 9.84450732, 9.94589513, 5.48321616]\n",
    "Y = [5.64413093, 3.75876583, 3.87233310, 4.40990425, 6.43845020, 4.02827829, 2.26105955, 7.15768995, 6.29097441, 5.19692852]\n",
    "\n",
    "beta_0 = 1 # 기울기\n",
    "beta_1 = 0.5 # 절편\n",
    "\n",
    "print(\"Loss: %f\" % loss(X, Y, beta_0, beta_1))\n",
    "\n",
    "plt.scatter(X, Y) # (x, y) 점 \n",
    "plt.plot([0, 10], [beta_1, 10 * beta_0 + beta_1], c='r') # y = beta_0 * x + beta_1 에 해당하는 선 \n",
    "\n",
    "plt.xlim(0, 10) # 그래프의 X축을 설정 \n",
    "plt.ylim(0, 10) # 그래프의 Y축을 설정 \n",
    "plt.savefig(\"test.png\")  \n",
    "plt.show(loss)\n"
   ]
  },
  {
   "cell_type": "markdown",
   "id": "4f2c0f26",
   "metadata": {},
   "source": [
    "### Scikit-learn을 이용한 회귀분석"
   ]
  },
  {
   "cell_type": "code",
   "execution_count": 16,
   "id": "ad3bd570",
   "metadata": {
    "ExecuteTime": {
     "end_time": "2021-10-19T02:45:27.751664Z",
     "start_time": "2021-10-19T02:45:25.613649Z"
    }
   },
   "outputs": [
    {
     "name": "stdout",
     "output_type": "stream",
     "text": [
      "beta_0: 0.430781\n",
      "beta_1: 2.506181\n",
      "Loss: 3.721640\n"
     ]
    },
    {
     "data": {
      "image/png": "[encoded data removed]",
      "text/plain": [
       "<Figure size 432x288 with 1 Axes>"
      ]
     },
     "metadata": {
      "needs_background": "light"
     },
     "output_type": "display_data"
    }
   ],
   "source": [
    "import matplotlib as mpl\n",
    "mpl.use(\"Agg\")\n",
    "import matplotlib.pyplot as plt\n",
    "from sklearn.linear_model import LinearRegression\n",
    "import numpy as np\n",
    "%matplotlib inline\n",
    "\n",
    "def loss(x, y, beta_0, beta_1):\n",
    "    N = len(x)\n",
    "    \n",
    "    x = np.array(x)\n",
    "    y = np.array(y)\n",
    "    total_loss = np.sum((y-(beta_0 * x + beta_1)) ** 2)\n",
    "    \n",
    "    return total_loss\n",
    "\n",
    "X = [8.70153760, 3.90825773, 1.89362433, 3.28730045, 7.39333004, 2.98984649, 2.25757240, 9.84450732, 9.94589513, 5.48321616]\n",
    "Y = [5.64413093, 3.75876583, 3.87233310, 4.40990425, 6.43845020, 4.02827829, 2.26105955, 7.15768995, 6.29097441, 5.19692852]\n",
    "\n",
    "\n",
    "# 행 1 열 10\n",
    "\n",
    "# print(X)\n",
    "train_X = np.array(X).reshape(-1, 1)\n",
    "train_Y = np.array(Y).reshape(-1, 1)\n",
    "\n",
    "# print(train_X)\n",
    "'''\n",
    "모델 트레이닝 \n",
    "'''\n",
    "lrmodel = LinearRegression()\n",
    "lrmodel.fit(train_X, train_Y)\n",
    "\n",
    "'''\n",
    "loss가 최소가 되는 직선의 기울기와 절편을 계산함\n",
    "'''\n",
    "\n",
    "# coefficient 의 0번 째 값 (단순 회귀분석) \n",
    "beta_0 = lrmodel.coef_[0]   # lrmodel로 구한 직선의 기울기\n",
    "beta_1 = lrmodel.intercept_ # lrmodel로 구한 직선의 y절편\n",
    "\n",
    "print(\"beta_0: %f\" % beta_0)\n",
    "print(\"beta_1: %f\" % beta_1)\n",
    "print(\"Loss: %f\" % loss(X, Y, beta_0, beta_1))\n",
    "\n",
    "plt.scatter(X, Y) # (x, y) 점 \n",
    "plt.plot([0, 10], [beta_1, 10 * beta_0 + beta_1], c='r') # y = beta_0 * x + beta_1 에 해당하는 선 \n",
    "\n",
    "plt.xlim(0, 10) # 그래프의 X축을 설정 \n",
    "plt.ylim(0, 10) # 그래프의 Y축을 설정 \n",
    "plt.savefig(\"test.png\")  \n",
    "plt.show(loss)"
   ]
  },
  {
   "cell_type": "markdown",
   "id": "480d6843",
   "metadata": {},
   "source": [
    "### 다중 회귀 분석"
   ]
  },
  {
   "cell_type": "markdown",
   "id": "1b3d3054",
   "metadata": {},
   "source": [
    "* Sales=β \n",
    "0\n",
    "​\n",
    " X \n",
    "1\n",
    "​\n",
    " +β \n",
    "1\n",
    "​\n",
    " X \n",
    "2\n",
    "​\n",
    " +β \n",
    "2\n",
    "​\n",
    " X \n",
    "3\n",
    "​\n",
    " +β \n",
    "3\n",
    "​\n",
    "*  X1 \n",
    "​\n",
    "  은 페이스북, X2​\n",
    "  는 TV, X3\n",
    "​\n",
    "  은 신문 광고를 의미"
   ]
  },
  {
   "cell_type": "code",
   "execution_count": 18,
   "id": "f99b7ad9",
   "metadata": {
    "ExecuteTime": {
     "end_time": "2021-10-19T06:08:36.444728Z",
     "start_time": "2021-10-19T06:08:36.361731Z"
    }
   },
   "outputs": [
    {
     "name": "stdout",
     "output_type": "stream",
     "text": [
      "beta_0: 0.045765\n",
      "beta_1: 0.188530\n",
      "beta_2: -0.001037\n",
      "beta_3: 2.938889\n",
      "예상 판매량: 5.655784\n"
     ]
    }
   ],
   "source": [
    "import numpy as np\n",
    "from sklearn.linear_model import LinearRegression\n",
    "from sklearn.metrics import r2_score\n",
    "'''\n",
    "X는 (200, 3) 의 shape을 가진 2차원 np.array,\n",
    "Y는 (200,) 의 shape을 가진 1차원 np.array여야 한다.\n",
    "\n",
    "X는 FB, TV, Newspaper column 에 해당하는 데이터를 저장해야 한다.\n",
    "Y는 Sales column 에 해당하는 데이터를 저장해야 한다.\n",
    "'''\n",
    "\n",
    "import csv\n",
    "csvreader = csv.reader(open(\"Advertising.csv\"))\n",
    "\n",
    "x = []\n",
    "y = []\n",
    "\n",
    "# 헤더 건너뛰기\n",
    "next(csvreader)\n",
    "for line in csvreader :\n",
    "    x_i = [ float(line[1]), float(line[2]), float(line[3]) ]\n",
    "    y_i = float(line[4])\n",
    "    x.append(x_i)\n",
    "    y.append(y_i)\n",
    "\n",
    "X = np.array(x)\n",
    "Y = np.array(y)\n",
    "\n",
    "# print(X)\n",
    "# print(X.shape)\n",
    "# print(Y)\n",
    "\n",
    "lrmodel = LinearRegression()\n",
    "lrmodel.fit(X, Y)\n",
    "\n",
    "# coef (기울기)\n",
    "beta_0 = lrmodel.coef_[0] # 0번째 변수에 대한 계수 (페이스북)\n",
    "beta_1 = lrmodel.coef_[1] # 1번째 변수에 대한 계수 (TV)\n",
    "beta_2 = lrmodel.coef_[2] # 2번째 변수에 대한 계수 (신문)\n",
    "beta_3 = lrmodel.intercept_ # y절편 (기본 판매량)\n",
    "\n",
    "print(\"beta_0: %f\" % beta_0)\n",
    "print(\"beta_1: %f\" % beta_1)\n",
    "print(\"beta_2: %f\" % beta_2)\n",
    "print(\"beta_3: %f\" % beta_3)\n",
    "\n",
    "def expected_sales(fb, tv, newspaper, beta_0, beta_1, beta_2, beta_3):\n",
    "    '''\n",
    "    FB에 fb만큼, TV에 tv만큼, Newspaper에 newspaper 만큼의 광고비를 사용했고,\n",
    "    트레이닝된 모델의 weight 들이 beta_0, beta_1, beta_2, beta_3 일 때\n",
    "    예상되는 Sales 의 양을 출력한다.\n",
    "    '''\n",
    "    sales = beta_0 * fb + beta_1 * tv + beta_2 * newspaper + beta_3\n",
    "\n",
    "    return sales\n",
    "\n",
    "print(\"예상 판매량: %f\" % expected_sales(10, 12, 3, beta_0, beta_1, beta_2, beta_3))"
   ]
  },
  {
   "cell_type": "markdown",
   "id": "9c8f8045",
   "metadata": {},
   "source": [
    "### 다항식 회귀 분석"
   ]
  },
  {
   "cell_type": "code",
   "execution_count": 20,
   "id": "13528a71",
   "metadata": {
    "ExecuteTime": {
     "end_time": "2021-10-19T06:43:07.595376Z",
     "start_time": "2021-10-19T06:43:07.556374Z"
    }
   },
   "outputs": [
    {
     "name": "stdout",
     "output_type": "stream",
     "text": [
      "MSE on train data: 5.147763444610845\n",
      "MSE on test data: 0.7560868986401728\n"
     ]
    }
   ],
   "source": [
    "import numpy as np\n",
    "from sklearn.linear_model import LinearRegression\n",
    "from sklearn.metrics import mean_squared_error\n",
    "from sklearn.model_selection import train_test_split\n",
    "from sklearn.model_selection import train_test_split\n",
    "\n",
    " \n",
    "import csv\n",
    "csvreader = csv.reader(open(\"Advertising.csv\"))\n",
    "\n",
    "x = []\n",
    "y = []\n",
    "\n",
    "# 헤더 건너뛰기\n",
    "next(csvreader)\n",
    "for line in csvreader :\n",
    "    x_i = [ float(line[1]), float(line[2]), float(line[3]) ]\n",
    "    y_i = float(line[4])\n",
    "    x.append(x_i)\n",
    "    y.append(y_i)\n",
    "\n",
    "X = np.array(x)\n",
    "Y = np.array(y)\n",
    "\n",
    "\n",
    "\n",
    "# 다항식 회귀분석을 진행하기 위해 변수들을 조합 \n",
    "X_poly = []\n",
    "for x_i in X:\n",
    "    X_poly.append([\n",
    "        x_i[0] ** 2, # X_1^2\n",
    "        x_i[1], # X_2\n",
    "        x_i[1] * x_i[2], # X_2 * X_3\n",
    "        x_i[2] # X_3\n",
    "    ])\n",
    "\n",
    "# X, Y를 80:20  /  80%는 Train data, 20%는 Test data\n",
    "x_train, x_test, y_train, y_test = train_test_split(X_poly, Y, test_size=0.01, random_state=0)\n",
    "\n",
    "# x_train, y_train에 대해 다항식 회귀분석을 진행 \n",
    "lrmodel = LinearRegression()\n",
    "lrmodel.fit(x_train, y_train)\n",
    "\n",
    "#x_train에 대해, 만든 회귀모델의 예측값을 구하고, 이 값과 y_train 의 차이를 이용해 MSE를 구한다.\n",
    "predicted_y_train = lrmodel.predict(x_train)\n",
    "mse_train = mean_squared_error(y_train, predicted_y_train)\n",
    "print(\"MSE on train data: {}\".format(mse_train))\n",
    "\n",
    "# x_test에 대해, 만든 회귀모델의 예측값을 구하고, 이 값과 y_test 의 차이를 이용해 MSE를 구한다.\n",
    "predicted_y_test = lrmodel.predict(x_test)\n",
    "mse_test = mean_squared_error(y_test, predicted_y_test)\n",
    "print(\"MSE on test data: {}\".format(mse_test))"
   ]
  },
  {
   "cell_type": "markdown",
   "id": "f6a8d7e8",
   "metadata": {},
   "source": [
    "### 영어 단어 코퍼스 분석"
   ]
  },
  {
   "cell_type": "code",
   "execution_count": 22,
   "id": "2457055f",
   "metadata": {
    "ExecuteTime": {
     "end_time": "2021-10-19T07:30:13.829348Z",
     "start_time": "2021-10-19T07:30:12.993353Z"
    }
   },
   "outputs": [
    {
     "data": {
      "image/png": "[encoded data removed]",
      "text/plain": [
       "<Figure size 432x288 with 1 Axes>"
      ]
     },
     "metadata": {
      "needs_background": "light"
     },
     "output_type": "display_data"
    }
   ],
   "source": [
    "import operator\n",
    "from sklearn.linear_model import LinearRegression\n",
    "import numpy as np\n",
    "import matplotlib\n",
    "matplotlib.use('Agg')\n",
    "import matplotlib.pyplot as plt\n",
    "\n",
    "\n",
    "def main():\n",
    "    words = read_data()\n",
    "    # print(words)\n",
    "    words = sorted(words, key = lambda x : x[1] , reverse = True) # words.txt 단어를 빈도수 순으로 정렬\n",
    "    \n",
    "    # 정수로 표현된 단어를 X축 리스트에, 각 단어의 빈도수를 Y축 리스트에 저장 \n",
    "    X = list(range(1, len(words)+1))\n",
    "    Y = [x[1] for x in words]\n",
    "    \n",
    "    # X, Y 리스트를 array로 변환합니다. \n",
    "    X, Y = np.array(X).reshape(-1,1), np.array(Y)\n",
    "    \n",
    "    # X, Y의 각 원소 값에 log()를 적용합니다.\n",
    "    X, Y = np.log(X), np.log(Y)\n",
    "    \n",
    "    # 기울기와 절편을 구한 후 그래프와 차트를 출력합니다. \n",
    "    slope, intercept = do_linear_regression(X, Y)\n",
    "    draw_chart(X, Y, slope, intercept)\n",
    "    \n",
    "    return slope, intercept\n",
    "\n",
    "\n",
    "# read_data() - words.txt에 저장된 단어와 해당 단어의 빈도수를 리스트형으로 변환\n",
    "def read_data():\n",
    "    # words.txt 에서 단어들를 읽어, \n",
    "    # [[단어1, 빈도수], [단어2, 빈도수] ... ]형으로 변환해 리턴\n",
    "    words = []\n",
    "\n",
    "    filename = 'words.txt'\n",
    "\n",
    "    x = []\n",
    "    y = []\n",
    "\n",
    "    with open(filename) as data:\n",
    "        lines = data.readlines()\n",
    "        \n",
    "    for line in lines:\n",
    "        word = line.replace('\\n','').split(',')\n",
    "        word[1] = int(word[1])\n",
    "        words.append(word)\n",
    "    return words\n",
    "\n",
    "# do_linear_regression() - 임포트한 sklearn 패키지의 함수를 이용해 그래프의 기울기와 절편을 구한다.\n",
    "def do_linear_regression(X, Y):\n",
    "    \n",
    "    lrmodel = LinearRegression()\n",
    "    lrmodel.fit(X,Y)\n",
    "    \n",
    "    # slope\n",
    "    slope = lrmodel.coef_[0] \n",
    "    intercept = lrmodel.intercept_\n",
    "    #beta_1 = lrmodel.coef_[1]\n",
    "    return (slope, intercept)\n",
    "\n",
    "\n",
    "# draw_chart() - matplotlib을 이용해 차트를 설정\n",
    "def draw_chart(X, Y, slope, intercept):\n",
    "    fig = plt.figure()\n",
    "    ax = fig.add_subplot(111)\n",
    "    plt.scatter(X, Y)\n",
    "\n",
    "    # 차트의 X, Y축 범위와 그래프를 설정\n",
    "    min_X = min(X)\n",
    "    max_X = max(X)\n",
    "    min_Y = min_X * slope + intercept\n",
    "    max_Y = max_X * slope + intercept\n",
    "    plt.plot([min_X, max_X], [min_Y, max_Y], \n",
    "             color='red',\n",
    "             linestyle='--',\n",
    "             linewidth=3.0)\n",
    "    \n",
    "    # 기울과와 절편을 이용해 그래프를 차트에 입력\n",
    "    ax.text(min_X, min_Y + 0.1, r'$y = %.2lfx + %.2lf$' % (slope, intercept), fontsize=15)\n",
    "    \n",
    "    plt.savefig('chart.png')\n",
    "\n",
    "if __name__ == \"__main__\":\n",
    "    main()"
   ]
  },
  {
   "cell_type": "code",
   "execution_count": null,
   "id": "259cb9f7",
   "metadata": {},
   "outputs": [],
   "source": []
  }
 ],
 "metadata": {
  "hide_input": false,
  "kernelspec": {
   "display_name": "Python 3",
   "language": "python",
   "name": "python3"
  },
  "language_info": {
   "codemirror_mode": {
    "name": "ipython",
    "version": 3
   },
   "file_extension": ".py",
   "mimetype": "text/x-python",
   "name": "python",
   "nbconvert_exporter": "python",
   "pygments_lexer": "ipython3",
   "version": "3.8.8"
  },
  "toc": {
   "base_numbering": 1,
   "nav_menu": {},
   "number_sections": true,
   "sideBar": true,
   "skip_h1_title": false,
   "title_cell": "Table of Contents",
   "title_sidebar": "Contents",
   "toc_cell": false,
   "toc_position": {},
   "toc_section_display": true,
   "toc_window_display": false
  },
  "varInspector": {
   "cols": {
    "lenName": 16,
    "lenType": 16,
    "lenVar": 40
   },
   "kernels_config": {
    "python": {
     "delete_cmd_postfix": "",
     "delete_cmd_prefix": "del ",
     "library": "var_list.py",
     "varRefreshCmd": "print(var_dic_list())"
    },
    "r": {
     "delete_cmd_postfix": ") ",
     "delete_cmd_prefix": "rm(",
     "library": "var_list.r",
     "varRefreshCmd": "cat(var_dic_list()) "
    }
   },
   "types_to_exclude": [
    "module",
    "function",
    "builtin_function_or_method",
    "instance",
    "_Feature"
   ],
   "window_display": false
  }
 },
 "nbformat": 4,
 "nbformat_minor": 5
}
