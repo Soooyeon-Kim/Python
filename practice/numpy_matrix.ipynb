{
 "cells": [
  {
   "cell_type": "code",
   "execution_count": 25,
   "id": "24097049",
   "metadata": {
    "ExecuteTime": {
     "end_time": "2021-10-22T11:46:10.199109Z",
     "start_time": "2021-10-22T11:46:10.190078Z"
    }
   },
   "outputs": [],
   "source": [
    "import numpy as np"
   ]
  },
  {
   "cell_type": "markdown",
   "id": "1cf577cd",
   "metadata": {},
   "source": [
    "1. 소수를 작은 순서대로 5개를 뽑아 각 행의 1열로 가지는 5×5 행렬 생성\n",
    "2. 이 행렬의 다음 열들은 1열의 배수(1행:[2, 4, 6, 8, 10], 2행:[3, 6, …, 15])라고 할 때, 이를 Numpy 배열로 나타내고 \n",
    "3. 이 행렬의 m행 m열 (m = 1, 2,…, 5)의 원소들의 합과 평균을 구한다."
   ]
  },
  {
   "cell_type": "code",
   "execution_count": 4,
   "id": "3249d85c",
   "metadata": {
    "ExecuteTime": {
     "end_time": "2021-10-22T11:41:52.987213Z",
     "start_time": "2021-10-22T11:41:52.972979Z"
    }
   },
   "outputs": [],
   "source": [
    "prime_list = [2, 3, 5, 7, 11]"
   ]
  },
  {
   "cell_type": "code",
   "execution_count": 23,
   "id": "bcf46549",
   "metadata": {
    "ExecuteTime": {
     "end_time": "2021-10-22T11:45:52.054771Z",
     "start_time": "2021-10-22T11:45:52.044778Z"
    }
   },
   "outputs": [
    {
     "data": {
      "text/plain": [
       "array([[ 2,  4,  6,  8, 10],\n",
       "       [ 3,  6,  9, 12, 15],\n",
       "       [ 5, 10, 15, 20, 25],\n",
       "       [ 7, 14, 21, 28, 35],\n",
       "       [11, 22, 33, 44, 55]])"
      ]
     },
     "execution_count": 23,
     "metadata": {},
     "output_type": "execute_result"
    }
   ],
   "source": [
    "# 소수(prime number)를 기반으로 2차원 배열 생성\n",
    "matrix = np.array([[prime_list[x] * i for i in range(1,6)] for x in range(len(prime_list))])\n",
    "matrix"
   ]
  },
  {
   "cell_type": "markdown",
   "id": "5e01dffd",
   "metadata": {},
   "source": [
    "### np.diag"
   ]
  },
  {
   "cell_type": "code",
   "execution_count": 24,
   "id": "0109b901",
   "metadata": {
    "ExecuteTime": {
     "end_time": "2021-10-22T11:45:58.986369Z",
     "start_time": "2021-10-22T11:45:58.967372Z"
    }
   },
   "outputs": [
    {
     "data": {
      "text/plain": [
       "array([ 2,  6, 15, 28, 55])"
      ]
     },
     "execution_count": 24,
     "metadata": {},
     "output_type": "execute_result"
    }
   ],
   "source": [
    "# 배열 matrix의 대각(diagonal) 성분을 추출\n",
    "matrix_dia = np.diag(matrix)\n",
    "matrix_dia"
   ]
  },
  {
   "cell_type": "markdown",
   "id": "cf329dd4",
   "metadata": {
    "ExecuteTime": {
     "end_time": "2021-10-22T12:08:02.083887Z",
     "start_time": "2021-10-22T12:08:02.066850Z"
    }
   },
   "source": [
    "### np.trace"
   ]
  },
  {
   "cell_type": "code",
   "execution_count": 22,
   "id": "57852e7b",
   "metadata": {
    "ExecuteTime": {
     "end_time": "2021-10-22T11:45:39.938409Z",
     "start_time": "2021-10-22T11:45:39.930408Z"
    }
   },
   "outputs": [
    {
     "name": "stdout",
     "output_type": "stream",
     "text": [
      "대각 성분의 합 :106,  대각 성분의 평균 :21.2\n"
     ]
    }
   ],
   "source": [
    "# 대각 성분의 합과 평균\n",
    "dia_sum = np.trace(matrix)\n",
    "dia_mean = np.mean(matrix_dia)\n",
    "print(f'대각 성분의 합 :{dia_sum},  대각 성분의 평균 :{dia_mean}')"
   ]
  },
  {
   "cell_type": "code",
   "execution_count": null,
   "id": "0eab17c7",
   "metadata": {},
   "outputs": [],
   "source": []
  }
 ],
 "metadata": {
  "hide_input": false,
  "kernelspec": {
   "display_name": "Python 3",
   "language": "python",
   "name": "python3"
  },
  "language_info": {
   "codemirror_mode": {
    "name": "ipython",
    "version": 3
   },
   "file_extension": ".py",
   "mimetype": "text/x-python",
   "name": "python",
   "nbconvert_exporter": "python",
   "pygments_lexer": "ipython3",
   "version": "3.8.8"
  },
  "toc": {
   "base_numbering": 1,
   "nav_menu": {},
   "number_sections": true,
   "sideBar": true,
   "skip_h1_title": false,
   "title_cell": "Table of Contents",
   "title_sidebar": "Contents",
   "toc_cell": false,
   "toc_position": {},
   "toc_section_display": true,
   "toc_window_display": false
  },
  "varInspector": {
   "cols": {
    "lenName": 16,
    "lenType": 16,
    "lenVar": 40
   },
   "kernels_config": {
    "python": {
     "delete_cmd_postfix": "",
     "delete_cmd_prefix": "del ",
     "library": "var_list.py",
     "varRefreshCmd": "print(var_dic_list())"
    },
    "r": {
     "delete_cmd_postfix": ") ",
     "delete_cmd_prefix": "rm(",
     "library": "var_list.r",
     "varRefreshCmd": "cat(var_dic_list()) "
    }
   },
   "types_to_exclude": [
    "module",
    "function",
    "builtin_function_or_method",
    "instance",
    "_Feature"
   ],
   "window_display": false
  }
 },
 "nbformat": 4,
 "nbformat_minor": 5
}
