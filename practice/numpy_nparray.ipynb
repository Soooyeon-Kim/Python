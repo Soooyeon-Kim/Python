{
 "cells": [
  {
   "cell_type": "code",
   "execution_count": 1,
   "id": "448edb30",
   "metadata": {
    "ExecuteTime": {
     "end_time": "2021-10-18T08:33:06.004260Z",
     "start_time": "2021-10-18T08:33:05.986257Z"
    }
   },
   "outputs": [],
   "source": [
    "import numpy as np"
   ]
  },
  {
   "cell_type": "code",
   "execution_count": 2,
   "id": "a2cb71e8",
   "metadata": {
    "ExecuteTime": {
     "end_time": "2021-10-18T08:33:28.912846Z",
     "start_time": "2021-10-18T08:33:28.897849Z"
    }
   },
   "outputs": [],
   "source": [
    "N = np.random.rand(3, 5)"
   ]
  },
  {
   "cell_type": "code",
   "execution_count": 3,
   "id": "58f0c816",
   "metadata": {
    "ExecuteTime": {
     "end_time": "2021-10-18T08:33:34.322756Z",
     "start_time": "2021-10-18T08:33:34.312750Z"
    }
   },
   "outputs": [
    {
     "data": {
      "text/plain": [
       "array([[0.28950849, 0.75249425, 0.31607489, 0.4428642 , 0.04160828],\n",
       "       [0.636311  , 0.21744617, 0.23527433, 0.21299984, 0.21615225],\n",
       "       [0.07010087, 0.04666851, 0.50374259, 0.60187623, 0.26737954]])"
      ]
     },
     "execution_count": 3,
     "metadata": {},
     "output_type": "execute_result"
    }
   ],
   "source": [
    "N"
   ]
  },
  {
   "cell_type": "code",
   "execution_count": 5,
   "id": "78f74e04",
   "metadata": {
    "ExecuteTime": {
     "end_time": "2021-10-18T08:34:21.824985Z",
     "start_time": "2021-10-18T08:34:21.808988Z"
    }
   },
   "outputs": [],
   "source": [
    "Z = np.zeros((2,4)) # zeros는 괄호를 꼭 두번 입력해야한다."
   ]
  },
  {
   "cell_type": "code",
   "execution_count": 6,
   "id": "272c9ca4",
   "metadata": {
    "ExecuteTime": {
     "end_time": "2021-10-18T08:34:25.552331Z",
     "start_time": "2021-10-18T08:34:25.531168Z"
    }
   },
   "outputs": [
    {
     "data": {
      "text/plain": [
       "array([[0., 0., 0., 0.],\n",
       "       [0., 0., 0., 0.]])"
      ]
     },
     "execution_count": 6,
     "metadata": {},
     "output_type": "execute_result"
    }
   ],
   "source": [
    "Z"
   ]
  },
  {
   "cell_type": "code",
   "execution_count": 9,
   "id": "3fe23b85",
   "metadata": {
    "ExecuteTime": {
     "end_time": "2021-10-18T08:35:54.525542Z",
     "start_time": "2021-10-18T08:35:54.506231Z"
    }
   },
   "outputs": [
    {
     "data": {
      "text/plain": [
       "0.3160748942964464"
      ]
     },
     "execution_count": 9,
     "metadata": {},
     "output_type": "execute_result"
    }
   ],
   "source": [
    "N[0][2] # 1행 3열"
   ]
  },
  {
   "cell_type": "code",
   "execution_count": 12,
   "id": "ac7538f9",
   "metadata": {
    "ExecuteTime": {
     "end_time": "2021-10-18T08:39:23.869603Z",
     "start_time": "2021-10-18T08:39:23.851257Z"
    }
   },
   "outputs": [],
   "source": [
    "A = np.array([[0,1,2,-1,],\n",
    "             [1,2,1,2],\n",
    "             [-1,3,0,4]])"
   ]
  },
  {
   "cell_type": "code",
   "execution_count": 14,
   "id": "bd44b226",
   "metadata": {
    "ExecuteTime": {
     "end_time": "2021-10-18T08:39:35.107787Z",
     "start_time": "2021-10-18T08:39:35.097795Z"
    }
   },
   "outputs": [
    {
     "data": {
      "text/plain": [
       "array([[ 0,  1, -1],\n",
       "       [ 1,  2,  3],\n",
       "       [ 2,  1,  0],\n",
       "       [-1,  2,  4]])"
      ]
     },
     "execution_count": 14,
     "metadata": {},
     "output_type": "execute_result"
    }
   ],
   "source": [
    "A.T"
   ]
  },
  {
   "cell_type": "code",
   "execution_count": 15,
   "id": "b50cde7c",
   "metadata": {
    "ExecuteTime": {
     "end_time": "2021-10-18T08:42:55.316064Z",
     "start_time": "2021-10-18T08:42:55.304025Z"
    }
   },
   "outputs": [],
   "source": [
    "AA = np.array([[0,1,-1],\n",
    "             [1,2,3],\n",
    "             [2,1,0],\n",
    "             [-1,2,4]])"
   ]
  },
  {
   "cell_type": "code",
   "execution_count": 16,
   "id": "c443aed3",
   "metadata": {
    "ExecuteTime": {
     "end_time": "2021-10-18T08:43:00.666901Z",
     "start_time": "2021-10-18T08:43:00.656941Z"
    }
   },
   "outputs": [
    {
     "data": {
      "text/plain": [
       "array([[ 0,  1, -1],\n",
       "       [ 1,  2,  3],\n",
       "       [ 2,  1,  0],\n",
       "       [-1,  2,  4]])"
      ]
     },
     "execution_count": 16,
     "metadata": {},
     "output_type": "execute_result"
    }
   ],
   "source": [
    "AA"
   ]
  },
  {
   "cell_type": "code",
   "execution_count": 17,
   "id": "81ec07ac",
   "metadata": {
    "ExecuteTime": {
     "end_time": "2021-10-18T08:43:56.042402Z",
     "start_time": "2021-10-18T08:43:56.030408Z"
    }
   },
   "outputs": [],
   "source": [
    "B = np.array([[0,2],\n",
    "             [1,1],\n",
    "             [-1,2]])"
   ]
  },
  {
   "cell_type": "code",
   "execution_count": 22,
   "id": "82d9a9c1",
   "metadata": {
    "ExecuteTime": {
     "end_time": "2021-10-18T08:44:27.735729Z",
     "start_time": "2021-10-18T08:44:27.724713Z"
    }
   },
   "outputs": [
    {
     "data": {
      "text/plain": [
       "2"
      ]
     },
     "execution_count": 22,
     "metadata": {},
     "output_type": "execute_result"
    }
   ],
   "source": [
    "B[0][1]"
   ]
  },
  {
   "cell_type": "code",
   "execution_count": 27,
   "id": "5c5b39cd",
   "metadata": {
    "ExecuteTime": {
     "end_time": "2021-10-18T08:45:45.134057Z",
     "start_time": "2021-10-18T08:45:45.128061Z"
    }
   },
   "outputs": [
    {
     "data": {
      "text/plain": [
       "2"
      ]
     },
     "execution_count": 27,
     "metadata": {},
     "output_type": "execute_result"
    }
   ],
   "source": [
    "AA[1][1]"
   ]
  },
  {
   "cell_type": "code",
   "execution_count": 26,
   "id": "e5427212",
   "metadata": {
    "ExecuteTime": {
     "end_time": "2021-10-18T08:45:39.366340Z",
     "start_time": "2021-10-18T08:45:39.345215Z"
    }
   },
   "outputs": [
    {
     "data": {
      "text/plain": [
       "-1"
      ]
     },
     "execution_count": 26,
     "metadata": {},
     "output_type": "execute_result"
    }
   ],
   "source": [
    "AA[3][0]"
   ]
  },
  {
   "cell_type": "code",
   "execution_count": 29,
   "id": "801c01d0",
   "metadata": {
    "ExecuteTime": {
     "end_time": "2021-10-18T10:28:05.498189Z",
     "start_time": "2021-10-18T10:28:05.484240Z"
    }
   },
   "outputs": [
    {
     "name": "stdout",
     "output_type": "stream",
     "text": [
      "[[ 0  1 -1]\n",
      " [ 1  2  3]\n",
      " [ 2  1  0]\n",
      " [-1  2  4]]\n",
      "2\n",
      "-1\n"
     ]
    }
   ],
   "source": [
    "print(AA)\n",
    "print(AA[1][1])\n",
    "print(AA[3][0])"
   ]
  },
  {
   "cell_type": "markdown",
   "id": "d8b8c625",
   "metadata": {},
   "source": [
    "---"
   ]
  },
  {
   "cell_type": "markdown",
   "id": "95c2b886",
   "metadata": {},
   "source": [
    "### 요소별 곱하기"
   ]
  },
  {
   "cell_type": "code",
   "execution_count": 38,
   "id": "82f1b47b",
   "metadata": {
    "ExecuteTime": {
     "end_time": "2021-10-18T10:34:49.477325Z",
     "start_time": "2021-10-18T10:34:49.468234Z"
    }
   },
   "outputs": [],
   "source": [
    "A = np.array([\n",
    "    [1, 2, 3],\n",
    "    [4, 5, 6],\n",
    "    [7, 8, 9]\n",
    "])\n",
    "\n",
    "B = np.array([\n",
    "    [0, 1, 2],\n",
    "    [2, 0, 1],\n",
    "    [1, 2, 0]\n",
    "])"
   ]
  },
  {
   "cell_type": "code",
   "execution_count": 39,
   "id": "62f09e75",
   "metadata": {
    "ExecuteTime": {
     "end_time": "2021-10-18T10:34:55.408841Z",
     "start_time": "2021-10-18T10:34:55.387089Z"
    },
    "scrolled": true
   },
   "outputs": [
    {
     "data": {
      "text/plain": [
       "array([[ 0,  2,  6],\n",
       "       [ 8,  0,  6],\n",
       "       [ 7, 16,  0]])"
      ]
     },
     "execution_count": 39,
     "metadata": {},
     "output_type": "execute_result"
    }
   ],
   "source": [
    "A * B"
   ]
  },
  {
   "cell_type": "markdown",
   "id": "d2818e53",
   "metadata": {},
   "source": [
    "### 내적곱"
   ]
  },
  {
   "cell_type": "code",
   "execution_count": 40,
   "id": "580f08dd",
   "metadata": {
    "ExecuteTime": {
     "end_time": "2021-10-18T11:24:00.808539Z",
     "start_time": "2021-10-18T11:24:00.785585Z"
    }
   },
   "outputs": [
    {
     "data": {
      "text/plain": [
       "array([[ 7,  7,  4],\n",
       "       [16, 16, 13],\n",
       "       [25, 25, 22]])"
      ]
     },
     "execution_count": 40,
     "metadata": {},
     "output_type": "execute_result"
    }
   ],
   "source": [
    "np.dot(A,B)"
   ]
  },
  {
   "cell_type": "code",
   "execution_count": 41,
   "id": "981fe240",
   "metadata": {
    "ExecuteTime": {
     "end_time": "2021-10-18T11:24:16.655463Z",
     "start_time": "2021-10-18T11:24:16.646465Z"
    }
   },
   "outputs": [
    {
     "data": {
      "text/plain": [
       "array([[ 7,  7,  4],\n",
       "       [16, 16, 13],\n",
       "       [25, 25, 22]])"
      ]
     },
     "execution_count": 41,
     "metadata": {},
     "output_type": "execute_result"
    }
   ],
   "source": [
    "A @ B"
   ]
  },
  {
   "cell_type": "markdown",
   "id": "5839b0d5",
   "metadata": {},
   "source": [
    "---"
   ]
  },
  {
   "cell_type": "markdown",
   "id": "cef4aacc",
   "metadata": {},
   "source": [
    "* 숫자/행렬 스칼라 곱 :  *\n",
    "* 행렬 덧셈 : +\n",
    "* 행렬 곱셈 : @"
   ]
  },
  {
   "cell_type": "code",
   "execution_count": 42,
   "id": "3a0f98cf",
   "metadata": {
    "ExecuteTime": {
     "end_time": "2021-10-18T11:25:28.125591Z",
     "start_time": "2021-10-18T11:25:28.106496Z"
    },
    "scrolled": true
   },
   "outputs": [
    {
     "data": {
      "text/plain": [
       "array([[ 8, 11, 11],\n",
       "       [24, 21, 21],\n",
       "       [34, 37, 31]])"
      ]
     },
     "execution_count": 42,
     "metadata": {},
     "output_type": "execute_result"
    }
   ],
   "source": [
    "A @ B + (A + 2 * B)"
   ]
  },
  {
   "cell_type": "code",
   "execution_count": 43,
   "id": "5eb91e1b",
   "metadata": {
    "ExecuteTime": {
     "end_time": "2021-10-18T11:30:31.300268Z",
     "start_time": "2021-10-18T11:30:31.287116Z"
    }
   },
   "outputs": [],
   "source": [
    "# A\n",
    "A = np.array([\n",
    "    [1, -1, 2],\n",
    "    [3, 2, 2]\n",
    "])\n",
    "# B\n",
    "B = np.array([\n",
    "    [0, 1],\n",
    "    [-1, 1],\n",
    "    [5, 2]\n",
    "])\n",
    "# C\n",
    "C = np.array([\n",
    "    [2, -1],\n",
    "    [-3, 3]\n",
    "])\n",
    "# D\n",
    "D = np.array([\n",
    "    [-5, 1],\n",
    "    [2, 0]\n",
    "])"
   ]
  },
  {
   "cell_type": "code",
   "execution_count": 45,
   "id": "ef2eb774",
   "metadata": {
    "ExecuteTime": {
     "end_time": "2021-10-18T11:30:41.289010Z",
     "start_time": "2021-10-18T11:30:41.279447Z"
    }
   },
   "outputs": [
    {
     "data": {
      "text/plain": [
       "array([[  34,  -28],\n",
       "       [ 110, -130]])"
      ]
     },
     "execution_count": 45,
     "metadata": {},
     "output_type": "execute_result"
    }
   ],
   "source": [
    "result = 2*A @ (-1*B) @ (3*C + D)\n",
    "result"
   ]
  },
  {
   "cell_type": "markdown",
   "id": "d3acb3b4",
   "metadata": {},
   "source": [
    "---"
   ]
  },
  {
   "cell_type": "code",
   "execution_count": 33,
   "id": "baaade2d",
   "metadata": {
    "ExecuteTime": {
     "end_time": "2021-10-18T10:29:00.673887Z",
     "start_time": "2021-10-18T10:29:00.663889Z"
    }
   },
   "outputs": [
    {
     "data": {
      "text/plain": [
       "array([0, 1, 2, 3, 4, 5, 6, 7, 8, 9])"
      ]
     },
     "execution_count": 33,
     "metadata": {},
     "output_type": "execute_result"
    }
   ],
   "source": [
    "array_A = np.arange(10)\n",
    "array_A"
   ]
  },
  {
   "cell_type": "code",
   "execution_count": 34,
   "id": "75acb037",
   "metadata": {
    "ExecuteTime": {
     "end_time": "2021-10-18T10:29:17.202183Z",
     "start_time": "2021-10-18T10:29:17.191184Z"
    }
   },
   "outputs": [
    {
     "data": {
      "text/plain": [
       "array([10, 11, 12, 13, 14, 15, 16, 17, 18, 19])"
      ]
     },
     "execution_count": 34,
     "metadata": {},
     "output_type": "execute_result"
    }
   ],
   "source": [
    "array_B = np.arange(10, 20)\n",
    "array_B"
   ]
  },
  {
   "cell_type": "code",
   "execution_count": 35,
   "id": "0e453007",
   "metadata": {
    "ExecuteTime": {
     "end_time": "2021-10-18T10:29:51.640051Z",
     "start_time": "2021-10-18T10:29:51.625051Z"
    }
   },
   "outputs": [
    {
     "data": {
      "text/plain": [
       "array([ 0,  2,  4,  6,  8, 10, 12, 14, 16, 18])"
      ]
     },
     "execution_count": 35,
     "metadata": {},
     "output_type": "execute_result"
    }
   ],
   "source": [
    "array_A * 2"
   ]
  },
  {
   "cell_type": "code",
   "execution_count": 36,
   "id": "8be7c219",
   "metadata": {
    "ExecuteTime": {
     "end_time": "2021-10-18T10:30:28.763805Z",
     "start_time": "2021-10-18T10:30:28.738071Z"
    }
   },
   "outputs": [
    {
     "data": {
      "text/plain": [
       "array([0. , 0.5, 1. , 1.5, 2. , 2.5, 3. , 3.5, 4. , 4.5])"
      ]
     },
     "execution_count": 36,
     "metadata": {},
     "output_type": "execute_result"
    }
   ],
   "source": [
    "array_A / 2"
   ]
  },
  {
   "cell_type": "markdown",
   "id": "d8451e35",
   "metadata": {},
   "source": [
    "* array * 2 \n",
    "* array + 2 \n",
    "* array / 2\n",
    "* array ** 2 "
   ]
  },
  {
   "cell_type": "code",
   "execution_count": 37,
   "id": "0cbf01e4",
   "metadata": {
    "ExecuteTime": {
     "end_time": "2021-10-18T10:32:47.578665Z",
     "start_time": "2021-10-18T10:32:47.564678Z"
    }
   },
   "outputs": [
    {
     "data": {
      "text/plain": [
       "array([10, 12, 14, 16, 18, 20, 22, 24, 26, 28])"
      ]
     },
     "execution_count": 37,
     "metadata": {},
     "output_type": "execute_result"
    }
   ],
   "source": [
    "array_A + array_B"
   ]
  },
  {
   "cell_type": "markdown",
   "id": "9e5ee953",
   "metadata": {},
   "source": [
    "### 전치 행렬\n",
    "####  transpose\n",
    "* 행과 열을 바꿈"
   ]
  },
  {
   "cell_type": "code",
   "execution_count": 68,
   "id": "4906d1c8",
   "metadata": {
    "ExecuteTime": {
     "end_time": "2021-10-18T12:22:09.624694Z",
     "start_time": "2021-10-18T12:22:09.619735Z"
    }
   },
   "outputs": [],
   "source": [
    "A = np.array([\n",
    "    [1, 2, 3],\n",
    "    [4, 5, 6]\n",
    "])"
   ]
  },
  {
   "cell_type": "code",
   "execution_count": 69,
   "id": "09e7ce3f",
   "metadata": {
    "ExecuteTime": {
     "end_time": "2021-10-18T12:22:10.389632Z",
     "start_time": "2021-10-18T12:22:10.372606Z"
    }
   },
   "outputs": [
    {
     "data": {
      "text/plain": [
       "array([[1, 4],\n",
       "       [2, 5],\n",
       "       [3, 6]])"
      ]
     },
     "execution_count": 69,
     "metadata": {},
     "output_type": "execute_result"
    }
   ],
   "source": [
    "A.transpose()"
   ]
  },
  {
   "cell_type": "code",
   "execution_count": 56,
   "id": "adfad424",
   "metadata": {
    "ExecuteTime": {
     "end_time": "2021-10-18T12:14:40.706041Z",
     "start_time": "2021-10-18T12:14:40.694032Z"
    }
   },
   "outputs": [
    {
     "data": {
      "text/plain": [
       "array([[1, 4],\n",
       "       [2, 5],\n",
       "       [3, 6]])"
      ]
     },
     "execution_count": 56,
     "metadata": {},
     "output_type": "execute_result"
    }
   ],
   "source": [
    "np.transpose(A)"
   ]
  },
  {
   "cell_type": "code",
   "execution_count": 47,
   "id": "65cdcf37",
   "metadata": {
    "ExecuteTime": {
     "end_time": "2021-10-18T11:35:39.751695Z",
     "start_time": "2021-10-18T11:35:39.743604Z"
    }
   },
   "outputs": [
    {
     "data": {
      "text/plain": [
       "array([[1, 4],\n",
       "       [2, 5],\n",
       "       [3, 6]])"
      ]
     },
     "execution_count": 47,
     "metadata": {},
     "output_type": "execute_result"
    }
   ],
   "source": [
    "A.T"
   ]
  },
  {
   "cell_type": "markdown",
   "id": "72d7e4d1",
   "metadata": {
    "ExecuteTime": {
     "end_time": "2021-10-18T11:37:20.775538Z",
     "start_time": "2021-10-18T11:37:20.754540Z"
    }
   },
   "source": [
    "### 단위 행렬\n",
    "#### identity matrix\n",
    "* 단위 행렬은 항상 정사각형의 모양\n",
    "* 어떤 행렬이든 간에 단위 행렬을 곱하면 기존 행렬이 그대로 유지"
   ]
  },
  {
   "cell_type": "code",
   "execution_count": 71,
   "id": "ae47f890",
   "metadata": {
    "ExecuteTime": {
     "end_time": "2021-10-18T12:22:45.583272Z",
     "start_time": "2021-10-18T12:22:45.563274Z"
    }
   },
   "outputs": [
    {
     "data": {
      "text/plain": [
       "array([[1., 0., 0.],\n",
       "       [0., 1., 0.],\n",
       "       [0., 0., 1.]])"
      ]
     },
     "execution_count": 71,
     "metadata": {},
     "output_type": "execute_result"
    }
   ],
   "source": [
    "I = np.eye(3)\n",
    "I"
   ]
  },
  {
   "cell_type": "code",
   "execution_count": 58,
   "id": "1922ea6e",
   "metadata": {
    "ExecuteTime": {
     "end_time": "2021-10-18T12:15:49.334152Z",
     "start_time": "2021-10-18T12:15:49.321151Z"
    }
   },
   "outputs": [
    {
     "data": {
      "text/plain": [
       "array([[1., 0., 0.],\n",
       "       [0., 1., 0.],\n",
       "       [0., 0., 1.]])"
      ]
     },
     "execution_count": 58,
     "metadata": {},
     "output_type": "execute_result"
    }
   ],
   "source": [
    "I = np.identity(3)\n",
    "I"
   ]
  },
  {
   "cell_type": "code",
   "execution_count": 49,
   "id": "ded2692d",
   "metadata": {
    "ExecuteTime": {
     "end_time": "2021-10-18T11:38:15.271014Z",
     "start_time": "2021-10-18T11:38:15.252993Z"
    }
   },
   "outputs": [],
   "source": [
    "I = np.array([\n",
    "    [1, 0],\n",
    "    [0, 1]\n",
    "])"
   ]
  },
  {
   "cell_type": "code",
   "execution_count": 50,
   "id": "6e6e7a5d",
   "metadata": {
    "ExecuteTime": {
     "end_time": "2021-10-18T11:38:27.983790Z",
     "start_time": "2021-10-18T11:38:27.974703Z"
    }
   },
   "outputs": [],
   "source": [
    "D = np.array([\n",
    "    [-5, 1],\n",
    "    [2, 0]\n",
    "])"
   ]
  },
  {
   "cell_type": "code",
   "execution_count": 51,
   "id": "227835a0",
   "metadata": {
    "ExecuteTime": {
     "end_time": "2021-10-18T11:38:35.722587Z",
     "start_time": "2021-10-18T11:38:35.710593Z"
    }
   },
   "outputs": [
    {
     "data": {
      "text/plain": [
       "array([[-5,  1],\n",
       "       [ 2,  0]])"
      ]
     },
     "execution_count": 51,
     "metadata": {},
     "output_type": "execute_result"
    }
   ],
   "source": [
    "D @ I"
   ]
  },
  {
   "cell_type": "markdown",
   "id": "c11b7707",
   "metadata": {},
   "source": [
    "### 역행렬\n",
    "#### inverse matrix\n",
    "* A에 곱했을 때 단위 행렬 I가 나오도록 하는 행렬\n",
    "* 역행렬은 꼭 정사각형이어야 한다\n",
    "* 모든 행렬에 역행렬이 있는 건 아님"
   ]
  },
  {
   "cell_type": "code",
   "execution_count": 60,
   "id": "cd2944b8",
   "metadata": {
    "ExecuteTime": {
     "end_time": "2021-10-18T12:16:48.676963Z",
     "start_time": "2021-10-18T12:16:48.660952Z"
    }
   },
   "outputs": [],
   "source": [
    "A = np.array([\n",
    "    [3, 4],\n",
    "    [1, 2]\n",
    "])"
   ]
  },
  {
   "cell_type": "markdown",
   "id": "47a078f4",
   "metadata": {},
   "source": [
    "#### 선형대수(Linear Algebra) 함수"
   ]
  },
  {
   "cell_type": "code",
   "execution_count": 63,
   "id": "6736cc3c",
   "metadata": {
    "ExecuteTime": {
     "end_time": "2021-10-18T12:17:02.457457Z",
     "start_time": "2021-10-18T12:17:02.440447Z"
    }
   },
   "outputs": [
    {
     "data": {
      "text/plain": [
       "array([[ 1. , -2. ],\n",
       "       [-0.5,  1.5]])"
      ]
     },
     "execution_count": 63,
     "metadata": {},
     "output_type": "execute_result"
    }
   ],
   "source": [
    "A_inverse = np.linalg.pinv(A)\n",
    "A_inverse"
   ]
  },
  {
   "cell_type": "code",
   "execution_count": 66,
   "id": "32ad84fa",
   "metadata": {
    "ExecuteTime": {
     "end_time": "2021-10-18T12:21:24.642258Z",
     "start_time": "2021-10-18T12:21:24.612098Z"
    }
   },
   "outputs": [
    {
     "data": {
      "text/plain": [
       "array([[ 1. , -2. ],\n",
       "       [-0.5,  1.5]])"
      ]
     },
     "execution_count": 66,
     "metadata": {},
     "output_type": "execute_result"
    }
   ],
   "source": [
    "np.linalg.inv(A)"
   ]
  },
  {
   "cell_type": "code",
   "execution_count": 64,
   "id": "5246c283",
   "metadata": {
    "ExecuteTime": {
     "end_time": "2021-10-18T12:17:13.382553Z",
     "start_time": "2021-10-18T12:17:13.363540Z"
    }
   },
   "outputs": [
    {
     "data": {
      "text/plain": [
       "array([[1., 0.],\n",
       "       [0., 1.]])"
      ]
     },
     "execution_count": 64,
     "metadata": {},
     "output_type": "execute_result"
    }
   ],
   "source": [
    "A_inverse @ A"
   ]
  },
  {
   "cell_type": "markdown",
   "id": "faa02c33",
   "metadata": {},
   "source": [
    "---"
   ]
  },
  {
   "cell_type": "code",
   "execution_count": 73,
   "id": "0ab7d0e2",
   "metadata": {
    "ExecuteTime": {
     "end_time": "2021-10-18T12:25:49.956152Z",
     "start_time": "2021-10-18T12:25:49.950073Z"
    }
   },
   "outputs": [],
   "source": [
    "A = np.array([\n",
    "    [1, -1, 2],\n",
    "    [3, 2, 2]\n",
    "])\n",
    "\n",
    "B = np.array([\n",
    "    [0, 1],\n",
    "    [-1, 1],\n",
    "    [5, 2]\n",
    "])\n",
    "\n",
    "C = np.array([\n",
    "    [2, -1],\n",
    "    [-3, 3]\n",
    "])\n",
    "\n",
    "D = np.array([\n",
    "    [-5, 1],\n",
    "    [2, 0]\n",
    "])"
   ]
  },
  {
   "cell_type": "code",
   "execution_count": 74,
   "id": "ce970326",
   "metadata": {
    "ExecuteTime": {
     "end_time": "2021-10-18T12:26:03.915194Z",
     "start_time": "2021-10-18T12:26:03.904190Z"
    }
   },
   "outputs": [
    {
     "data": {
      "text/plain": [
       "array([[20., 98.],\n",
       "       [56., 60.]])"
      ]
     },
     "execution_count": 74,
     "metadata": {},
     "output_type": "execute_result"
    }
   ],
   "source": [
    "result = B.T @ (2 * A.T) @ (3 * np.linalg.pinv(C) + D.T)\n",
    "result"
   ]
  }
 ],
 "metadata": {
  "hide_input": false,
  "kernelspec": {
   "display_name": "Python 3",
   "language": "python",
   "name": "python3"
  },
  "language_info": {
   "codemirror_mode": {
    "name": "ipython",
    "version": 3
   },
   "file_extension": ".py",
   "mimetype": "text/x-python",
   "name": "python",
   "nbconvert_exporter": "python",
   "pygments_lexer": "ipython3",
   "version": "3.8.8"
  },
  "toc": {
   "base_numbering": 1,
   "nav_menu": {},
   "number_sections": true,
   "sideBar": true,
   "skip_h1_title": false,
   "title_cell": "Table of Contents",
   "title_sidebar": "Contents",
   "toc_cell": false,
   "toc_position": {},
   "toc_section_display": true,
   "toc_window_display": false
  },
  "varInspector": {
   "cols": {
    "lenName": 16,
    "lenType": 16,
    "lenVar": 40
   },
   "kernels_config": {
    "python": {
     "delete_cmd_postfix": "",
     "delete_cmd_prefix": "del ",
     "library": "var_list.py",
     "varRefreshCmd": "print(var_dic_list())"
    },
    "r": {
     "delete_cmd_postfix": ") ",
     "delete_cmd_prefix": "rm(",
     "library": "var_list.r",
     "varRefreshCmd": "cat(var_dic_list()) "
    }
   },
   "types_to_exclude": [
    "module",
    "function",
    "builtin_function_or_method",
    "instance",
    "_Feature"
   ],
   "window_display": false
  }
 },
 "nbformat": 4,
 "nbformat_minor": 5
}
