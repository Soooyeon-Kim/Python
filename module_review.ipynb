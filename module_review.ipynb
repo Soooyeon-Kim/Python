{
 "cells": [
  {
   "cell_type": "code",
   "execution_count": 2,
   "id": "065c2981",
   "metadata": {
    "ExecuteTime": {
     "end_time": "2021-09-23T20:59:28.621288Z",
     "start_time": "2021-09-23T20:59:28.611741Z"
    }
   },
   "outputs": [],
   "source": [
    "import math"
   ]
  },
  {
   "cell_type": "markdown",
   "id": "c74eb5c1",
   "metadata": {},
   "source": [
    "* math.pi : 파이값\n",
    "* math.log() : 로그 \n",
    "* math.factorial() : 팩토리얼 함수\n",
    "* math.floor() : 내림 함수\n",
    "* math.ceil() : 올림 함수"
   ]
  },
  {
   "cell_type": "code",
   "execution_count": 3,
   "id": "45a1ed1c",
   "metadata": {
    "ExecuteTime": {
     "end_time": "2021-09-23T20:59:51.856896Z",
     "start_time": "2021-09-23T20:59:51.833367Z"
    }
   },
   "outputs": [
    {
     "data": {
      "text/plain": [
       "3.141592653589793"
      ]
     },
     "execution_count": 3,
     "metadata": {},
     "output_type": "execute_result"
    }
   ],
   "source": [
    "math.pi"
   ]
  },
  {
   "cell_type": "code",
   "execution_count": 4,
   "id": "dd396911",
   "metadata": {
    "ExecuteTime": {
     "end_time": "2021-09-23T20:59:58.276086Z",
     "start_time": "2021-09-23T20:59:58.268085Z"
    }
   },
   "outputs": [
    {
     "data": {
      "text/plain": [
       "1.0986122886681098"
      ]
     },
     "execution_count": 4,
     "metadata": {},
     "output_type": "execute_result"
    }
   ],
   "source": [
    "math.log(3)"
   ]
  },
  {
   "cell_type": "markdown",
   "id": "ef1e668b",
   "metadata": {
    "ExecuteTime": {
     "end_time": "2021-09-23T21:19:07.193940Z",
     "start_time": "2021-09-23T21:19:07.186946Z"
    }
   },
   "source": [
    "#### math.log\n",
    "* math.exp(x): e의 거듭제곱\n",
    "* math.log(x): 진수가 x인 자연로그\n",
    "* math.log(x, base): 밑이 base, 진수가 x인 로그\n",
    "* math.log2(x): 밑이 2인 로그\n",
    "* math.log10(x): 밑이 10인 상용로그\n",
    "* math.pow(x,y): x의 y거듭제곱 (ex. math.pow(3,2) = 9)\n",
    "* math.sqrt(x): x의 제곱근"
   ]
  },
  {
   "cell_type": "code",
   "execution_count": 19,
   "id": "37e40811",
   "metadata": {
    "ExecuteTime": {
     "end_time": "2021-09-23T21:22:56.160082Z",
     "start_time": "2021-09-23T21:22:56.142080Z"
    }
   },
   "outputs": [
    {
     "data": {
      "text/plain": [
       "54.598150033144236"
      ]
     },
     "metadata": {},
     "output_type": "display_data"
    },
    {
     "data": {
      "text/plain": [
       "1.3862943611198906"
      ]
     },
     "metadata": {},
     "output_type": "display_data"
    },
    {
     "data": {
      "text/plain": [
       "1.0"
      ]
     },
     "metadata": {},
     "output_type": "display_data"
    },
    {
     "data": {
      "text/plain": [
       "2.0"
      ]
     },
     "metadata": {},
     "output_type": "display_data"
    },
    {
     "data": {
      "text/plain": [
       "0.6020599913279624"
      ]
     },
     "metadata": {},
     "output_type": "display_data"
    },
    {
     "data": {
      "text/plain": [
       "64.0"
      ]
     },
     "metadata": {},
     "output_type": "display_data"
    },
    {
     "data": {
      "text/plain": [
       "2.0"
      ]
     },
     "metadata": {},
     "output_type": "display_data"
    }
   ],
   "source": [
    "display(\n",
    "    math.exp(4),\n",
    "    math.log(4),\n",
    "    math.log(4,4),\n",
    "    math.log2(4),\n",
    "    math.log10(4),\n",
    "    math.pow(4,3),\n",
    "    math.sqrt(4))"
   ]
  },
  {
   "cell_type": "code",
   "execution_count": 17,
   "id": "68d168da",
   "metadata": {
    "ExecuteTime": {
     "end_time": "2021-09-23T21:19:35.392149Z",
     "start_time": "2021-09-23T21:19:35.372142Z"
    }
   },
   "outputs": [
    {
     "data": {
      "text/plain": [
       "1.0002641656503337"
      ]
     },
     "metadata": {},
     "output_type": "display_data"
    },
    {
     "data": {
      "text/plain": [
       "2.0"
      ]
     },
     "metadata": {},
     "output_type": "display_data"
    },
    {
     "data": {
      "text/plain": [
       "0.9997359041147276"
      ]
     },
     "metadata": {},
     "output_type": "display_data"
    }
   ],
   "source": [
    "import math\n",
    "\n",
    "display(\n",
    "    math.log(2.719), \n",
    "    math.log(100,10),\n",
    "    math.log(math.exp(1), 2.719)\n",
    ")"
   ]
  },
  {
   "cell_type": "code",
   "execution_count": 5,
   "id": "73dbdd69",
   "metadata": {
    "ExecuteTime": {
     "end_time": "2021-09-23T21:00:08.463417Z",
     "start_time": "2021-09-23T21:00:08.449418Z"
    }
   },
   "outputs": [
    {
     "data": {
      "text/plain": [
       "120"
      ]
     },
     "execution_count": 5,
     "metadata": {},
     "output_type": "execute_result"
    }
   ],
   "source": [
    "math.factorial(5)"
   ]
  },
  {
   "cell_type": "code",
   "execution_count": 6,
   "id": "148a28e7",
   "metadata": {
    "ExecuteTime": {
     "end_time": "2021-09-23T21:00:28.039097Z",
     "start_time": "2021-09-23T21:00:28.029587Z"
    }
   },
   "outputs": [
    {
     "data": {
      "text/plain": [
       "3"
      ]
     },
     "execution_count": 6,
     "metadata": {},
     "output_type": "execute_result"
    }
   ],
   "source": [
    "math.floor(3.78)"
   ]
  },
  {
   "cell_type": "code",
   "execution_count": 7,
   "id": "edfd22e4",
   "metadata": {
    "ExecuteTime": {
     "end_time": "2021-09-23T21:00:40.295971Z",
     "start_time": "2021-09-23T21:00:40.277416Z"
    },
    "scrolled": true
   },
   "outputs": [
    {
     "data": {
      "text/plain": [
       "4"
      ]
     },
     "execution_count": 7,
     "metadata": {},
     "output_type": "execute_result"
    }
   ],
   "source": [
    "math.ceil(3.14)"
   ]
  },
  {
   "cell_type": "markdown",
   "id": "0b769f46",
   "metadata": {},
   "source": [
    "* random.random(): 난수 생성\n",
    "* random.randrange(1,7): 1에서 6까지의 정수 중 하나를 무작위를 뽑음\n",
    "* random.shuffle(lst): lst 내의 원소들의 순서를 무작위로 섞음\n",
    "* random.choice(lst): lst 내의 원소들 중 하나를 무작위로 뽑음\n",
    "* random.sample(lst, N): lst 내의 원소들 중 N개를 샘플링"
   ]
  },
  {
   "cell_type": "code",
   "execution_count": 8,
   "id": "4c0b692c",
   "metadata": {
    "ExecuteTime": {
     "end_time": "2021-09-23T21:05:29.297955Z",
     "start_time": "2021-09-23T21:05:29.293442Z"
    }
   },
   "outputs": [],
   "source": [
    "import random"
   ]
  },
  {
   "cell_type": "code",
   "execution_count": 9,
   "id": "a55a4be2",
   "metadata": {
    "ExecuteTime": {
     "end_time": "2021-09-23T21:06:11.707711Z",
     "start_time": "2021-09-23T21:06:11.689488Z"
    }
   },
   "outputs": [
    {
     "data": {
      "text/plain": [
       "0.7157767479780576"
      ]
     },
     "execution_count": 9,
     "metadata": {},
     "output_type": "execute_result"
    }
   ],
   "source": [
    "random.random()"
   ]
  },
  {
   "cell_type": "code",
   "execution_count": 10,
   "id": "20e19913",
   "metadata": {
    "ExecuteTime": {
     "end_time": "2021-09-23T21:06:21.041789Z",
     "start_time": "2021-09-23T21:06:21.021080Z"
    }
   },
   "outputs": [
    {
     "data": {
      "text/plain": [
       "6"
      ]
     },
     "execution_count": 10,
     "metadata": {},
     "output_type": "execute_result"
    }
   ],
   "source": [
    "random.randrange(1,10)"
   ]
  },
  {
   "cell_type": "code",
   "execution_count": 12,
   "id": "1502b348",
   "metadata": {
    "ExecuteTime": {
     "end_time": "2021-09-23T21:06:37.907600Z",
     "start_time": "2021-09-23T21:06:37.900596Z"
    }
   },
   "outputs": [
    {
     "data": {
      "text/plain": [
       "[7, 3, 4, 9, 8, 6, 1, 2, 5]"
      ]
     },
     "execution_count": 12,
     "metadata": {},
     "output_type": "execute_result"
    }
   ],
   "source": [
    "lst =[1,2,3,4,5,6,7,8,9]\n",
    "random.shuffle(lst)\n",
    "lst"
   ]
  },
  {
   "cell_type": "code",
   "execution_count": 13,
   "id": "6cd40929",
   "metadata": {
    "ExecuteTime": {
     "end_time": "2021-09-23T21:06:44.718432Z",
     "start_time": "2021-09-23T21:06:44.711428Z"
    },
    "scrolled": true
   },
   "outputs": [
    {
     "data": {
      "text/plain": [
       "2"
      ]
     },
     "execution_count": 13,
     "metadata": {},
     "output_type": "execute_result"
    }
   ],
   "source": [
    "random.choice(lst)"
   ]
  },
  {
   "cell_type": "code",
   "execution_count": 14,
   "id": "7fa7ddbe",
   "metadata": {
    "ExecuteTime": {
     "end_time": "2021-09-23T21:07:16.450776Z",
     "start_time": "2021-09-23T21:07:16.430226Z"
    }
   },
   "outputs": [
    {
     "data": {
      "text/plain": [
       "[9, 31, 20, 44, 41, 45, 42]"
      ]
     },
     "execution_count": 14,
     "metadata": {},
     "output_type": "execute_result"
    }
   ],
   "source": [
    "random.sample(range(1,46),7)"
   ]
  },
  {
   "cell_type": "code",
   "execution_count": 15,
   "id": "95194259",
   "metadata": {
    "ExecuteTime": {
     "end_time": "2021-09-23T21:14:54.123347Z",
     "start_time": "2021-09-23T21:14:54.118349Z"
    }
   },
   "outputs": [
    {
     "name": "stdout",
     "output_type": "stream",
     "text": [
      "[19, 33, 32, 5, 14, 45, 26]\n"
     ]
    }
   ],
   "source": [
    "# 함수 형태\n",
    "def lotto():\n",
    "    lucky_numbers = random.sample(range(1,46),7)\n",
    "    return lucky_numbers\n",
    "def main():\n",
    "    lucky_numbers = lotto()\n",
    "    print(lucky_numbers)\n",
    "if __name__ == \"__main__\":\n",
    "    main()"
   ]
  },
  {
   "cell_type": "code",
   "execution_count": 20,
   "id": "fea47046",
   "metadata": {
    "ExecuteTime": {
     "end_time": "2021-09-23T21:25:08.903906Z",
     "start_time": "2021-09-23T21:25:08.890939Z"
    }
   },
   "outputs": [
    {
     "name": "stdout",
     "output_type": "stream",
     "text": [
      "[1, 4, 6, 2, 7, 8, 9, 3, 5]\n",
      "[1, 7, 8, 4, 5, 9, 2, 3, 6]\n",
      "[1, 5, 3, 9, 4, 7, 2, 6, 8]\n",
      "[5, 3, 9, 2, 7, 6, 4, 8, 1]\n",
      "[4, 5, 6, 7, 3, 8, 2, 9, 1]\n",
      "[5, 7, 1, 4, 9, 6, 8, 3, 2]\n",
      "[7, 5, 2, 4, 3, 9, 8, 6, 1]\n",
      "[5, 6, 3, 8, 2, 4, 7, 9, 1]\n",
      "[6, 1, 4, 8, 2, 5, 9, 3, 7]\n",
      "[8, 4, 2, 3, 7, 6, 1, 5, 9]\n"
     ]
    }
   ],
   "source": [
    "lst = [1,2,3,4,5,6,7,8,9]\n",
    "for i in range(10):\n",
    "    random.shuffle(lst)\n",
    "    print(lst)"
   ]
  },
  {
   "cell_type": "code",
   "execution_count": 21,
   "id": "19ab8b23",
   "metadata": {
    "ExecuteTime": {
     "end_time": "2021-09-23T21:26:11.925209Z",
     "start_time": "2021-09-23T21:26:11.906178Z"
    }
   },
   "outputs": [
    {
     "name": "stdout",
     "output_type": "stream",
     "text": [
      "9  8  8  2  1  7  5  4  7  6  9  7  9  1  4  "
     ]
    }
   ],
   "source": [
    "lst = [1,2,3,4,5,6,7,8,9]\n",
    "for i in range(15):\n",
    "    print(random.choice(lst), end = '  ')"
   ]
  },
  {
   "cell_type": "markdown",
   "id": "31d8032c",
   "metadata": {},
   "source": [
    "#### random.sample( )\n",
    "* random.sample(population, k)"
   ]
  },
  {
   "cell_type": "code",
   "execution_count": 22,
   "id": "81de290e",
   "metadata": {
    "ExecuteTime": {
     "end_time": "2021-09-23T21:27:00.367444Z",
     "start_time": "2021-09-23T21:27:00.346877Z"
    }
   },
   "outputs": [
    {
     "data": {
      "text/plain": [
       "[3, 1, 5]"
      ]
     },
     "execution_count": 22,
     "metadata": {},
     "output_type": "execute_result"
    }
   ],
   "source": [
    "li = [1, 2, 3, 4, 5] \n",
    "random.sample(li,3)"
   ]
  },
  {
   "cell_type": "code",
   "execution_count": 23,
   "id": "f685e0d8",
   "metadata": {
    "ExecuteTime": {
     "end_time": "2021-09-23T21:27:19.086068Z",
     "start_time": "2021-09-23T21:27:19.073069Z"
    }
   },
   "outputs": [
    {
     "name": "stdout",
     "output_type": "stream",
     "text": [
      "[2, 1, 5]  [3, 4, 5]  [5, 2, 3]  [2, 3, 1]  [2, 4, 3]  [2, 4, 1]  [4, 1, 3]  [4, 3, 1]  [4, 2, 1]  [4, 2, 3]  "
     ]
    }
   ],
   "source": [
    "li = [1, 2, 3, 4, 5] \n",
    "for i in range(10):\n",
    "    print(random.sample(li,3), end = '  ')"
   ]
  }
 ],
 "metadata": {
  "hide_input": false,
  "kernelspec": {
   "display_name": "Python 3",
   "language": "python",
   "name": "python3"
  },
  "language_info": {
   "codemirror_mode": {
    "name": "ipython",
    "version": 3
   },
   "file_extension": ".py",
   "mimetype": "text/x-python",
   "name": "python",
   "nbconvert_exporter": "python",
   "pygments_lexer": "ipython3",
   "version": "3.8.8"
  },
  "toc": {
   "base_numbering": 1,
   "nav_menu": {},
   "number_sections": true,
   "sideBar": true,
   "skip_h1_title": false,
   "title_cell": "Table of Contents",
   "title_sidebar": "Contents",
   "toc_cell": false,
   "toc_position": {},
   "toc_section_display": true,
   "toc_window_display": false
  },
  "varInspector": {
   "cols": {
    "lenName": 16,
    "lenType": 16,
    "lenVar": 40
   },
   "kernels_config": {
    "python": {
     "delete_cmd_postfix": "",
     "delete_cmd_prefix": "del ",
     "library": "var_list.py",
     "varRefreshCmd": "print(var_dic_list())"
    },
    "r": {
     "delete_cmd_postfix": ") ",
     "delete_cmd_prefix": "rm(",
     "library": "var_list.r",
     "varRefreshCmd": "cat(var_dic_list()) "
    }
   },
   "types_to_exclude": [
    "module",
    "function",
    "builtin_function_or_method",
    "instance",
    "_Feature"
   ],
   "window_display": false
  }
 },
 "nbformat": 4,
 "nbformat_minor": 5
}
